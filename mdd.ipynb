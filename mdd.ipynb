{
 "cells": [
  {
   "cell_type": "code",
   "execution_count": 1,
   "id": "31e24268-e5cb-4656-859c-1b2be245b153",
   "metadata": {},
   "outputs": [],
   "source": [
    "import numpy as np\n",
    "import torch\n",
    "import os"
   ]
  },
  {
   "cell_type": "code",
   "execution_count": 2,
   "id": "bfa41f30-25c8-4067-b962-26610c0986ce",
   "metadata": {},
   "outputs": [],
   "source": [
    "def _gaussian_kernel_matrix(x, y, sigmas):\n",
    "    \"\"\"\n",
    "    Computes the Gaussian Kernel matrix\n",
    "    \"\"\"\n",
    "    dist = ((x[:, None, :] - y[None, :, :]) ** 2).sum(axis=-1)[:, :, None]\n",
    "    beta = 1.0 / (2.0 * torch.Tensor(sigmas)[None, :])#.cuda()\n",
    "    s = torch.matmul(dist, beta)\n",
    "    k = torch.exp(-s).sum(axis=-1)\n",
    "    return k\n",
    "\n",
    "def _mmd(embedding, factor_z=2):\n",
    "    \"\"\"\n",
    "    Computes the Maximum-Mean-Discrepancy (MMD): MMD(embedding,z) where\n",
    "    z follows a standard normal distribution\n",
    "    Computation is performed for multiple scales\n",
    "    \"\"\"\n",
    "    # z = torch.randn(embedding.shape)\n",
    "    z = torch.randn(embedding.shape[0] * factor_z, embedding.shape[1])#.cuda()\n",
    "    sigmas = [\n",
    "        1e-6,\n",
    "        # 1e-5,\n",
    "        # 1e-4,\n",
    "        1e-3,\n",
    "        # 1e-2,\n",
    "        1e-1,\n",
    "        1,\n",
    "        5,\n",
    "        # 10,\n",
    "        15,\n",
    "        # 20,\n",
    "        25,\n",
    "        30,\n",
    "        # 35,\n",
    "        100,\n",
    "        # 1e3,\n",
    "        1e4,\n",
    "        # 1e5,\n",
    "        1e6,\n",
    "    ]\n",
    "\n",
    "    loss = torch.mean(_gaussian_kernel_matrix(embedding, embedding, sigmas))\n",
    "    loss += torch.mean(_gaussian_kernel_matrix(z, z, sigmas))\n",
    "    loss -= 2 * torch.mean(_gaussian_kernel_matrix(embedding, z, sigmas))\n",
    "    return loss"
   ]
  },
  {
   "cell_type": "code",
   "execution_count": 19,
   "id": "edb1602a-0f69-439e-a16f-50bfb0100c51",
   "metadata": {},
   "outputs": [],
   "source": [
    "# Here you have to include your own path\n",
    "# dataset_path = \"/home/DATA/ITWM/lorenzp/\"\n",
    "dataset_path = \"/home/lorenzp/workspace/competence_estimation/features/cifar10\"\n",
    "model = \"resnet18\"\n",
    "mode = \"benign\"\n",
    "\n",
    "# Features/logits/labels Trainings datad\n",
    "features_id_train =  torch.load(f\"{dataset_path}/{mode}/features_{mode}_{model}_train.pt\")[:3000]\n",
    "features_id_test  =  torch.load(f\"{dataset_path}/{mode}/features_{mode}_{model}_test.pt\")[:3000]"
   ]
  },
  {
   "cell_type": "code",
   "execution_count": 20,
   "id": "b77cb3e6-0b03-4c89-9833-1c3a25109012",
   "metadata": {},
   "outputs": [],
   "source": [
    "# _mmd(torch.from_numpy(features_id_train), factor_z=2)"
   ]
  },
  {
   "cell_type": "code",
   "execution_count": 21,
   "id": "e5942d98-f8b4-4977-9355-b767a5fa7f91",
   "metadata": {},
   "outputs": [],
   "source": [
    "# _mmd(torch.from_numpy(features_id_test), factor_z=2)"
   ]
  },
  {
   "cell_type": "code",
   "execution_count": 22,
   "id": "c9e03216-a78f-4969-afb7-789a8979966f",
   "metadata": {},
   "outputs": [
    {
     "data": {
      "text/plain": [
       "(3000, 512)"
      ]
     },
     "execution_count": 22,
     "metadata": {},
     "output_type": "execute_result"
    }
   ],
   "source": [
    "features_id_train.shape"
   ]
  },
  {
   "cell_type": "code",
   "execution_count": 23,
   "id": "5eb7d354-d17f-4bc4-b867-264524e3ff09",
   "metadata": {},
   "outputs": [
    {
     "name": "stdout",
     "output_type": "stream",
     "text": [
      "Files already downloaded and verified\n",
      "Mean: 120.70756512369792\n",
      "Standard Deviation: 64.1500758911213\n"
     ]
    }
   ],
   "source": [
    "import torchvision.datasets as datasets\n",
    "import numpy as np\n",
    "\n",
    "# Load the CIFAR-10 dataset\n",
    "cifar10_trainset = datasets.CIFAR10(root='/home/DATA/ITWM/lorenzp/cifar10', train=True, download=True)\n",
    "\n",
    "# Get the image data from the train set\n",
    "images = cifar10_trainset.data\n",
    "\n",
    "# Convert the images to a numpy array\n",
    "dataset = np.array(images)\n",
    "\n",
    "# Calculate the mean and standard deviation\n",
    "mean = np.mean(dataset)\n",
    "std_dev = np.std(dataset)\n",
    "\n",
    "print(\"Mean:\", mean)\n",
    "print(\"Standard Deviation:\", std_dev)"
   ]
  },
  {
   "cell_type": "code",
   "execution_count": 24,
   "id": "63cd8690-ae30-4cb8-bcf9-ef8f8cb1448c",
   "metadata": {},
   "outputs": [
    {
     "name": "stdout",
     "output_type": "stream",
     "text": [
      "Mean: 0.1837909\n",
      "Standard Deviation: 0.28158644\n",
      "Variance: 0.07929093\n"
     ]
    }
   ],
   "source": [
    "# Calculate the mean, standard deviation, and variance along the axis of features\n",
    "mean = np.mean(features_id_train)\n",
    "std = np.std(features_id_train, )\n",
    "variance = np.var(features_id_train, )\n",
    "\n",
    "print(\"Mean:\", mean)\n",
    "print(\"Standard Deviation:\", std)\n",
    "print(\"Variance:\", variance)"
   ]
  },
  {
   "cell_type": "code",
   "execution_count": 25,
   "id": "955a1e8c-ce47-4d12-9d48-3d248ca392b0",
   "metadata": {},
   "outputs": [
    {
     "name": "stdout",
     "output_type": "stream",
     "text": [
      "Mean: 0.18315665\n",
      "Standard Deviation: 0.27723405\n",
      "Variance: 0.07685872\n"
     ]
    }
   ],
   "source": [
    "mean = np.mean(features_id_test)\n",
    "std = np.std(features_id_test, )\n",
    "variance = np.var(features_id_test, )\n",
    "\n",
    "print(\"Mean:\", mean)\n",
    "print(\"Standard Deviation:\", std)\n",
    "print(\"Variance:\", variance)"
   ]
  }
 ],
 "metadata": {
  "kernelspec": {
   "display_name": "Python [conda env:.conda-ood]",
   "language": "python",
   "name": "conda-env-.conda-ood-py"
  },
  "language_info": {
   "codemirror_mode": {
    "name": "ipython",
    "version": 3
   },
   "file_extension": ".py",
   "mimetype": "text/x-python",
   "name": "python",
   "nbconvert_exporter": "python",
   "pygments_lexer": "ipython3",
   "version": "3.9.13"
  }
 },
 "nbformat": 4,
 "nbformat_minor": 5
}
