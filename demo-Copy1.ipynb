{
 "cells": [
  {
   "cell_type": "code",
   "execution_count": 2,
   "id": "smart-command",
   "metadata": {},
   "outputs": [],
   "source": [
    "import numpy as np\n",
    "import yaml\n",
    "\n",
    "from competence_estimation.utils import load_data, get_network_weights, mix_open\n",
    "from competence_estimation.scores  import create_score_function\n",
    "from competence_estimation.metrics  import compute_metric\n",
    "\n",
    "import torch"
   ]
  },
  {
   "cell_type": "markdown",
   "id": "automotive-picnic",
   "metadata": {},
   "source": [
    "# Short Introduction"
   ]
  },
  {
   "cell_type": "markdown",
   "id": "distributed-modification",
   "metadata": {},
   "source": [
    "The following files are required:\n",
    "* {x}_id_train.npy\n",
    "* {x}_id_val.npy\n",
    "* {x}_id_test.npy\n",
    "where x = features, logits, labels\n",
    "\n",
    "and the same for ood samples:\n",
    "* {x}_ood\n",
    "where x = features, logits, labels\n",
    "\n",
    "Additionally we require the weights w and biases b of the last layer"
   ]
  },
  {
   "cell_type": "markdown",
   "id": "removed-fence",
   "metadata": {},
   "source": [
    "# Data and Config Loading"
   ]
  },
  {
   "cell_type": "code",
   "execution_count": 6,
   "id": "orange-cassette",
   "metadata": {},
   "outputs": [],
   "source": [
    "with open(\"config.yml\", \"r\") as file:\n",
    "    config = yaml.safe_load(file)"
   ]
  },
  {
   "cell_type": "code",
   "execution_count": 4,
   "id": "historic-arthur",
   "metadata": {},
   "outputs": [],
   "source": [
    "# Here you have to include your own path\n",
    "# dataset_path = \"/home/DATA/ITWM/lorenzp/\"\n",
    "dataset_path = \"/home/lorenzp/workspace/competence_estimation/features/example_features\"\n",
    "algorithm = \"ERM\"\n",
    "\n",
    "w = np.load(f\"{dataset_path}/{algorithm}_W.npy\")\n",
    "b = np.load(f\"{dataset_path}/{algorithm}_b.npy\")\n",
    "\n",
    "# Features/logits/labels Trainings data\n",
    "features_id_train =  np.load(f\"{dataset_path}/{algorithm}_features_iid_train.npy\")\n",
    "logits_id_train   =  np.load(f\"{dataset_path}/{algorithm}_logits_iid_train.npy\")\n",
    "labels_id_train   =  np.load(f\"{dataset_path}/{algorithm}_labels_iid_train.npy\")\n",
    "    \n",
    "# Features/logits/labels Validation data\n",
    "features_id_val = np.load(f\"{dataset_path}/{algorithm}_features_iid_val.npy\")\n",
    "logits_id_val   = np.load(f\"{dataset_path}/{algorithm}_logits_iid_val.npy\")\n",
    "labels_id_val   = np.load(f\"{dataset_path}/{algorithm}_labels_iid_val.npy\")\n",
    "\n",
    "# Features/logits/labels Test data\n",
    "features_id_test = np.load(f\"{dataset_path}/{algorithm}_features_iid_test.npy\")\n",
    "logits_id_test   = np.load(f\"{dataset_path}/{algorithm}_logits_iid_test.npy\")\n",
    "labels_id_test   = np.load(f\"{dataset_path}/{algorithm}_labels_iid_test.npy\")"
   ]
  },
  {
   "cell_type": "code",
   "execution_count": 3,
   "id": "fbcc06fe-2bb3-4b64-ae9d-2ad49877a013",
   "metadata": {},
   "outputs": [
    {
     "name": "stdout",
     "output_type": "stream",
     "text": [
      "(10, 512) (10,)\n"
     ]
    }
   ],
   "source": [
    "# Here you have to include your own path\n",
    "# dataset_path = \"/home/DATA/ITWM/lorenzp/\"\n",
    "dataset_path = \"/home/lorenzp/workspace/competence_estimation/features/cifar10\"\n",
    "# algorithm = \"ERM\"\n",
    "model = \"resnet18\"\n",
    "\n",
    "load_data = model\n",
    "mode =\"spatial\"\n",
    "\n",
    "w = torch.load(f\"{dataset_path}/spatial/{model}_W.pt\").numpy()\n",
    "b = torch.load(f\"{dataset_path}/spatial/{model}_b.pt\").numpy()\n",
    "\n",
    "print(w.shape, b.shape)"
   ]
  },
  {
   "cell_type": "code",
   "execution_count": 4,
   "id": "3d4b8a8b-0cfa-4f72-9df5-2c900acd1c6f",
   "metadata": {},
   "outputs": [
    {
     "name": "stdout",
     "output_type": "stream",
     "text": [
      "(30000, 512) (20000, 512) (5000, 512)\n"
     ]
    }
   ],
   "source": [
    "# Features/logits/labels Trainings datad\n",
    "features_id_train =  torch.load(f\"{dataset_path}/spatial/features_{mode}_{model}_train.pt\")[:30000]\n",
    "logits_id_train = torch.load(f\"{dataset_path}/spatial/logits_{mode}_{model}_train.pt\")[:30000]\n",
    "labels_id_train =  torch.load(f\"{dataset_path}/spatial/labels_{mode}_{model}_train.pt\")[:30000]\n",
    "\n",
    "# Features/logits/labels Validation data\n",
    "features_id_val = torch.load(f\"{dataset_path}/spatial/features_{mode}_{model}_train.pt\")[30000:50000]\n",
    "logits_id_val = torch.load(f\"{dataset_path}/spatial/logits_{mode}_{model}_train.pt\")[30000:50000]\n",
    "labels_id_val = torch.load(f\"{dataset_path}/spatial/labels_{mode}_{model}_train.pt\")[30000:50000]\n",
    "\n",
    "# Features/logits/labels Test data\n",
    "features_id_test = torch.load(f\"{dataset_path}/spatial/features_{mode}_{model}_test.pt\")[:5000]\n",
    "logits_id_test = torch.load(f\"{dataset_path}/spatial/logits_{mode}_{model}_test.pt\")[:5000]\n",
    "labels_id_test = torch.load(f\"{dataset_path}/spatial/labels_{mode}_{model}_test.pt\")[:5000]\n",
    "\n",
    "print(\n",
    "    features_id_train.shape,\n",
    "    features_id_val.shape,\n",
    "    features_id_test.shape\n",
    ")\n",
    "\n",
    "metrics = ['quantiles']\n",
    "results = {}\n",
    "results_frac = {}\n",
    "results_id_test = {}\n",
    "results_id_test_frac = {}\n",
    "attacks = ['nor', 'fgsm', 'linfpgd', 'aa', 'linfdf', 'l2df']\n",
    "# attacks = ['nor', 'fgsm']\n",
    "score_fct = [\"max_softmax\", \"max_logit\", \"vim\", \"mahalanobis\", \"knn\", \"energy\", \"energy_react\", \"GMM\",  \"PCA\"]\n",
    "# score_fct = [ \"vim\" ]"
   ]
  },
  {
   "cell_type": "markdown",
   "id": "foreign-scope",
   "metadata": {},
   "source": [
    "# Score function creation"
   ]
  },
  {
   "cell_type": "markdown",
   "id": "8fadaacc-229a-4493-adfa-32d6f051f270",
   "metadata": {
    "tags": []
   },
   "source": [
    "### \"max_softmax\", \"max_logit\", \"vim\", \"mahalanobis\", \"knn\", \"energy\", \"energy_react\", \"GMM\", \"HBOS\", \"PCA\""
   ]
  },
  {
   "cell_type": "code",
   "execution_count": 7,
   "id": "naval-samba",
   "metadata": {},
   "outputs": [
    {
     "name": "stdout",
     "output_type": "stream",
     "text": [
      "lam1 1\n"
     ]
    }
   ],
   "source": [
    "score_function_name = 'vim' # 'vim'\n",
    "\n",
    "scores_id_val, score_function = create_score_function(\n",
    "    features_id_train,\n",
    "    logits_id_train,\n",
    "    labels_id_train,\n",
    "    features_id_val,\n",
    "    logits_id_val,\n",
    "    labels_id_val,\n",
    "    w,\n",
    "    b,\n",
    "    score_function =  score_function_name,\n",
    "    **config\n",
    ")"
   ]
  },
  {
   "cell_type": "markdown",
   "id": "radical-national",
   "metadata": {},
   "source": [
    "## Compute various scores and metrics"
   ]
  },
  {
   "cell_type": "code",
   "execution_count": 8,
   "id": "a909eef1-eed0-4893-a5e4-16a94df28b88",
   "metadata": {},
   "outputs": [
    {
     "name": "stdout",
     "output_type": "stream",
     "text": [
      "lam2:  1\n",
      "lam2:  1\n"
     ]
    },
    {
     "data": {
      "text/plain": [
       "array([ 0.97001934, -0.80391407,  2.3348494 , ..., -1.1966772 ,\n",
       "        0.94078255, -0.71409893], dtype=float32)"
      ]
     },
     "execution_count": 8,
     "metadata": {},
     "output_type": "execute_result"
    }
   ],
   "source": [
    "scores_id_train = score_function(features_id_train, logits_id_train)\n",
    "scores_id_test  = score_function(features_id_test, logits_id_test)\n",
    "\n",
    "scores_id_train"
   ]
  },
  {
   "cell_type": "code",
   "execution_count": null,
   "id": "287a86ce-cbf4-4d88-8f73-eca1dd063389",
   "metadata": {},
   "outputs": [],
   "source": [
    "scores_id_test"
   ]
  },
  {
   "cell_type": "code",
   "execution_count": 10,
   "id": "bc44104c-7c74-44ef-8ffc-324ec1954f69",
   "metadata": {},
   "outputs": [],
   "source": [
    "# Here you would compute the scores for OOD data\n",
    "# Features/logits/labels Validation data\n",
    "# features_ood = np.load(f\"{dataset_path}/{algorithm}_features_ood_test.npy\")\n",
    "# logits_ood = np.load(f\"{dataset_path}/{algorithm}_logits_ood_test.npy\")\n",
    "# labels_ood = np.load(f\"{dataset_path}/{algorithm}_labels_ood_test.npy\")\n",
    "# scores_ood_test = score_function(features_ood, logits_ood)"
   ]
  },
  {
   "cell_type": "code",
   "execution_count": 14,
   "id": "3b593f35-6497-4af8-9306-5e0d325c38ce",
   "metadata": {},
   "outputs": [
    {
     "name": "stdout",
     "output_type": "stream",
     "text": [
      "lam2:  1\n"
     ]
    }
   ],
   "source": [
    "features_ood = torch.load(f\"{dataset_path}/spatial/features_{mode}_{model}_test.pt\")[5000:10000]\n",
    "logits_ood   = torch.load(f\"{dataset_path}/spatial/logits_{mode}_{model}_test.pt\")[5000:10000]\n",
    "labels_ood   = torch.load(f\"{dataset_path}/spatial/labels_{mode}_{model}_test.pt\")[5000:10000]\n",
    "scores_ood_test = score_function(features_ood, logits_ood)"
   ]
  },
  {
   "cell_type": "code",
   "execution_count": 15,
   "id": "3b320a0c-ef83-4546-b222-5204cd01952a",
   "metadata": {},
   "outputs": [
    {
     "data": {
      "text/plain": [
       "array([[7.706e-03, 2.689e-02, 6.866e-05, ..., 2.480e-01, 3.289e-01,\n",
       "        1.419e-02],\n",
       "       [4.439e-04, 0.000e+00, 1.600e-01, ..., 9.094e-03, 4.536e-01,\n",
       "        0.000e+00],\n",
       "       [1.102e-02, 1.278e-02, 2.344e-02, ..., 2.659e-01, 1.852e-02,\n",
       "        5.264e-03],\n",
       "       ...,\n",
       "       [2.852e-01, 5.508e-01, 0.000e+00, ..., 5.723e-01, 6.752e-03,\n",
       "        0.000e+00],\n",
       "       [1.682e-01, 2.593e-01, 8.716e-02, ..., 2.571e-01, 9.167e-02,\n",
       "        6.683e-02],\n",
       "       [3.721e-03, 3.204e-03, 1.598e-02, ..., 2.406e-01, 1.361e-01,\n",
       "        4.990e-03]], dtype=float16)"
      ]
     },
     "execution_count": 15,
     "metadata": {},
     "output_type": "execute_result"
    }
   ],
   "source": [
    "features_ood"
   ]
  },
  {
   "cell_type": "code",
   "execution_count": 16,
   "id": "82baf7c0-c202-4f02-ad7d-4bfd413febbe",
   "metadata": {},
   "outputs": [
    {
     "data": {
      "text/plain": [
       "(5000, 512)"
      ]
     },
     "execution_count": 16,
     "metadata": {},
     "output_type": "execute_result"
    }
   ],
   "source": [
    "features_ood.shape"
   ]
  },
  {
   "cell_type": "code",
   "execution_count": 17,
   "id": "c11b8b8e-3d93-4b88-9d51-39cf4e4ec77e",
   "metadata": {},
   "outputs": [
    {
     "data": {
      "text/plain": [
       "(5000, 10)"
      ]
     },
     "execution_count": 17,
     "metadata": {},
     "output_type": "execute_result"
    }
   ],
   "source": [
    "logits_ood.shape"
   ]
  },
  {
   "cell_type": "code",
   "execution_count": 18,
   "id": "4ad003da-f881-4bb1-be98-96607e922e0b",
   "metadata": {},
   "outputs": [
    {
     "data": {
      "text/plain": [
       "array([[-1.623  , -0.4878 , -2.004  , ..., 10.45   , -1.494  ,  0.02615],\n",
       "       [-2.559  , -1.204  ,  0.0411 , ..., -1.394  , -1.477  , -2.055  ],\n",
       "       [ 0.1929 , -0.2888 , -1.989  , ..., -1.814  , 11.97   ,  0.5713 ],\n",
       "       ...,\n",
       "       [-3.229  , -2.19   ,  0.412  , ...,  0.4185 , -1.361  , -1.855  ],\n",
       "       [-1.631  ,  9.016  ,  0.732  , ..., -1.598  , -0.2625 , -2.277  ],\n",
       "       [-1.473  , -1.414  , -1.63   , ..., 10.38   , -1.66   , -0.2057 ]],\n",
       "      dtype=float16)"
      ]
     },
     "execution_count": 18,
     "metadata": {},
     "output_type": "execute_result"
    }
   ],
   "source": [
    "logits_ood"
   ]
  },
  {
   "cell_type": "code",
   "execution_count": 19,
   "id": "882b0159-f415-493f-89b3-29248f4b0139",
   "metadata": {},
   "outputs": [
    {
     "data": {
      "text/plain": [
       "array([7, 6, 8, ..., 5, 1, 7])"
      ]
     },
     "execution_count": 19,
     "metadata": {},
     "output_type": "execute_result"
    }
   ],
   "source": [
    "labels_ood"
   ]
  },
  {
   "cell_type": "code",
   "execution_count": 20,
   "id": "71884f3f-1153-40e3-bccc-7b1c99241142",
   "metadata": {},
   "outputs": [
    {
     "data": {
      "text/plain": [
       "(5000,)"
      ]
     },
     "execution_count": 20,
     "metadata": {},
     "output_type": "execute_result"
    }
   ],
   "source": [
    "labels_ood.shape"
   ]
  },
  {
   "cell_type": "code",
   "execution_count": 21,
   "id": "shared-payday",
   "metadata": {},
   "outputs": [],
   "source": [
    "metrics = ['quantiles']\n",
    "\n",
    "outs = compute_metric(\n",
    "    scores_id_val,\n",
    "    scores_id_test,\n",
    "    scores_ood_test,\n",
    "    features_id_train,\n",
    "    logits_id_train,\n",
    "    labels_id_train,\n",
    "    features_id_test,\n",
    "    logits_id_test,\n",
    "    labels_id_test,\n",
    "    features_ood,\n",
    "    logits_ood,\n",
    "    labels_ood,\n",
    "    metrics=metrics\n",
    ")"
   ]
  },
  {
   "cell_type": "code",
   "execution_count": 22,
   "id": "junior-camping",
   "metadata": {},
   "outputs": [
    {
     "name": "stdout",
     "output_type": "stream",
     "text": [
      "{'n_95_frac': 0.8538, 'n_95': 0.9845396876335144, 'n_95_frac_id_test': 0.8534, 'n_95_id_test': 0.982188880443573}\n"
     ]
    }
   ],
   "source": [
    "#n_95 is the accuracy at threshold 95%percentile of validation set\n",
    "#n_95_frac is the fraction of included samples at this particular threshold\n",
    "print(outs)"
   ]
  }
 ],
 "metadata": {
  "kernelspec": {
   "display_name": "Python [conda env:.conda-cuda--11-1-1--pytorch--1-9-0]",
   "language": "python",
   "name": "conda-env-.conda-cuda--11-1-1--pytorch--1-9-0-py"
  },
  "language_info": {
   "codemirror_mode": {
    "name": "ipython",
    "version": 3
   },
   "file_extension": ".py",
   "mimetype": "text/x-python",
   "name": "python",
   "nbconvert_exporter": "python",
   "pygments_lexer": "ipython3",
   "version": "3.9.10"
  },
  "vscode": {
   "interpreter": {
    "hash": "7777e8cd77b1a42d3e413a64ab2dd2719a1140100efcec2477e8dd7f016d0079"
   }
  }
 },
 "nbformat": 4,
 "nbformat_minor": 5
}
