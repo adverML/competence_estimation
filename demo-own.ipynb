{
 "cells": [
  {
   "cell_type": "code",
   "execution_count": null,
   "id": "smart-command",
   "metadata": {},
   "outputs": [],
   "source": [
    "import numpy as np\n",
    "import yaml\n",
    "import torch\n",
    "import torch.nn as nn\n",
    "import torch.nn.functional as F\n",
    "\n",
    "from competence_estimation.utils import load_data, get_network_weights, mix_open\n",
    "from competence_estimation.scores  import create_score_function\n",
    "from competence_estimation.metrics  import compute_metric\n",
    "\n",
    "import pandas as pd\n",
    "\n",
    "import matplotlib.pyplot as plt"
   ]
  },
  {
   "cell_type": "markdown",
   "id": "automotive-picnic",
   "metadata": {
    "tags": []
   },
   "source": [
    "# Short Introduction"
   ]
  },
  {
   "cell_type": "markdown",
   "id": "distributed-modification",
   "metadata": {},
   "source": [
    "The following files are required:\n",
    "* {x}_id_train.npy\n",
    "* {x}_id_val.npy\n",
    "* {x}_id_test.npy\n",
    "where x = features, logits, labels\n",
    "\n",
    "and the same for ood samples:\n",
    "* {x}_ood\n",
    "where x = features, logits, labels\n",
    "\n",
    "Additionally we require the weights w and biases b of the last layer"
   ]
  },
  {
   "cell_type": "markdown",
   "id": "removed-fence",
   "metadata": {},
   "source": [
    "# Data and Config Loading"
   ]
  },
  {
   "cell_type": "code",
   "execution_count": null,
   "id": "2da8de63-7571-475e-aaa0-e29835c3d022",
   "metadata": {},
   "outputs": [],
   "source": [
    "def calculate_fourier_spectrum(im, typ='MFS'):\n",
    "    \n",
    "    fft = np.fft.fft2(im)\n",
    "    if typ == 'MFS':\n",
    "        fourier_spectrum = np.abs(fft)\n",
    "    elif typ == 'PFS':\n",
    "        fourier_spectrum = np.abs(np.angle(fft))\n",
    "        \n",
    "    return fourier_spectrum"
   ]
  },
  {
   "cell_type": "code",
   "execution_count": null,
   "id": "orange-cassette",
   "metadata": {},
   "outputs": [],
   "source": [
    "with open(\"config.yml\", \"r\") as file:\n",
    "    config = yaml.safe_load(file)"
   ]
  },
  {
   "cell_type": "code",
   "execution_count": null,
   "id": "historic-arthur",
   "metadata": {},
   "outputs": [],
   "source": [
    "# Here you have to include your own path\n",
    "# dataset_path = \"/home/DATA/ITWM/lorenzp/\"\n",
    "dataset_path = \"/home/lorenzp/workspace/competence_estimation/features/cifar10\"\n",
    "# algorithm = \"ERM\"\n",
    "model = \"resnet18\"\n",
    "\n",
    "w = np.load(f\"{dataset_path}/{model}_W.npy\")\n",
    "b = np.load(f\"{dataset_path}/{model}_b.npy\")\n",
    "\n",
    "# Features/logits/labels Trainings data\n",
    "features_id_train =  np.load(f\"{dataset_path}/features_{model}_train.npy\")[:5000]\n",
    "logits_id_train = np.load(f\"{dataset_path}/logits_{model}_train.npy\")[:5000]\n",
    "labels_id_train =  np.load(f\"{dataset_path}/labels_{model}_train.npy\")[:5000]\n",
    "\n",
    "# Features/logits/labels Validation data\n",
    "features_id_val = np.load(f\"{dataset_path}/features_{model}_test.npy\")[:5000]\n",
    "logits_id_val = np.load(f\"{dataset_path}/logits_{model}_test.npy\")[:5000]\n",
    "labels_id_val = np.load(f\"{dataset_path}/labels_{model}_test.npy\")[:5000]\n",
    "\n",
    "# Features/logits/labels Test data\n",
    "features_id_test = np.load(f\"{dataset_path}/features_{model}_test.npy\")[5000:]\n",
    "logits_id_test = np.load(f\"{dataset_path}/logits_{model}_test.npy\")[5000:]\n",
    "labels_id_test = np.load(f\"{dataset_path}/labels_{model}_test.npy\")[5000:]"
   ]
  },
  {
   "cell_type": "code",
   "execution_count": null,
   "id": "b0687161-30bb-480e-bd67-8de5aeb11822",
   "metadata": {},
   "outputs": [
    {
     "data": {
      "text/plain": [
       "(10, 512)"
      ]
     },
     "execution_count": 20,
     "metadata": {},
     "output_type": "execute_result"
    }
   ],
   "source": [
    "w.shape"
   ]
  },
  {
   "cell_type": "code",
   "execution_count": null,
   "id": "bb376ca6-986c-4df9-b079-41fd9fa9f67b",
   "metadata": {},
   "outputs": [
    {
     "data": {
      "text/plain": [
       "(10,)"
      ]
     },
     "execution_count": 21,
     "metadata": {},
     "output_type": "execute_result"
    }
   ],
   "source": [
    "b.shape"
   ]
  },
  {
   "cell_type": "code",
   "execution_count": null,
   "id": "e2600d8d-835e-408b-9f59-7420f5145613",
   "metadata": {},
   "outputs": [
    {
     "data": {
      "text/plain": [
       "(5000, 512)"
      ]
     },
     "execution_count": 22,
     "metadata": {},
     "output_type": "execute_result"
    }
   ],
   "source": [
    "features_id_train.shape"
   ]
  },
  {
   "cell_type": "code",
   "execution_count": null,
   "id": "1436e4b0-8c5c-469c-b0e3-91370528c245",
   "metadata": {},
   "outputs": [
    {
     "data": {
      "text/plain": [
       "(5000, 512)"
      ]
     },
     "execution_count": 23,
     "metadata": {},
     "output_type": "execute_result"
    }
   ],
   "source": [
    "np.squeeze(features_id_train).shape"
   ]
  },
  {
   "cell_type": "code",
   "execution_count": null,
   "id": "1b9ff0b8-6563-4699-8107-b0c8d31c86b9",
   "metadata": {},
   "outputs": [
    {
     "data": {
      "text/plain": [
       "(5000, 512)"
      ]
     },
     "execution_count": 24,
     "metadata": {},
     "output_type": "execute_result"
    }
   ],
   "source": [
    "features_id_val.shape"
   ]
  },
  {
   "cell_type": "code",
   "execution_count": null,
   "id": "77410722-2f4a-44f9-b9f9-ffc2c04553d0",
   "metadata": {},
   "outputs": [
    {
     "data": {
      "text/plain": [
       "(5000, 512)"
      ]
     },
     "execution_count": 25,
     "metadata": {},
     "output_type": "execute_result"
    }
   ],
   "source": [
    "features_id_test.shape"
   ]
  },
  {
   "cell_type": "code",
   "execution_count": null,
   "id": "389f9d8e-c605-43b8-90fd-bb7ed8a6c18b",
   "metadata": {},
   "outputs": [],
   "source": [
    "features_id_train = np.squeeze(features_id_train)\n",
    "features_id_val = np.squeeze(features_id_val)\n",
    "features_id_test = np.squeeze(features_id_test)"
   ]
  },
  {
   "cell_type": "code",
   "execution_count": null,
   "id": "cab7b5e7-7dbb-41a0-8366-c3147972a474",
   "metadata": {},
   "outputs": [
    {
     "data": {
      "text/plain": [
       "(5000, 10)"
      ]
     },
     "execution_count": 27,
     "metadata": {},
     "output_type": "execute_result"
    }
   ],
   "source": [
    "logits_id_train.shape"
   ]
  },
  {
   "cell_type": "code",
   "execution_count": null,
   "id": "e5ba3dbb-aa0d-4783-a794-54994132f326",
   "metadata": {},
   "outputs": [
    {
     "data": {
      "text/plain": [
       "(5000,)"
      ]
     },
     "execution_count": 28,
     "metadata": {},
     "output_type": "execute_result"
    }
   ],
   "source": [
    "labels_id_train.shape"
   ]
  },
  {
   "cell_type": "code",
   "execution_count": null,
   "id": "f391bc67-2460-41bf-8e84-9968a4661f7f",
   "metadata": {},
   "outputs": [],
   "source": [
    "# # typ = 'MFS'\n",
    "# typ = 'PFS'\n",
    "# features_id_train = calculate_fourier_spectrum(features_id_train, typ=typ)\n",
    "# features_id_val   = calculate_fourier_spectrum(features_id_val, typ=typ)\n",
    "# features_id_test  = calculate_fourier_spectrum(features_id_test, typ=typ)"
   ]
  },
  {
   "cell_type": "markdown",
   "id": "foreign-scope",
   "metadata": {
    "tags": []
   },
   "source": [
    "# Score function creation"
   ]
  },
  {
   "cell_type": "markdown",
   "id": "8fadaacc-229a-4493-adfa-32d6f051f270",
   "metadata": {
    "tags": []
   },
   "source": [
    "### \"max_softmax\", \"max_logit\", \"vim\", \"mahalanobis\", \"knn\", \"energy\", \"energy_react\", \"GMM\", \"HBOS\", \"PCA\""
   ]
  },
  {
   "cell_type": "code",
   "execution_count": 30,
   "id": "naval-samba",
   "metadata": {},
   "outputs": [],
   "source": [
    "score_function_name = 'vim' \n",
    "\n",
    "scores_id_val, score_function = create_score_function(\n",
    "    features_id_train,\n",
    "    logits_id_train,\n",
    "    labels_id_train,\n",
    "    features_id_val,\n",
    "    logits_id_val,\n",
    "    labels_id_val,\n",
    "    w,\n",
    "    b,\n",
    "    score_function =  score_function_name,\n",
    "    **config\n",
    ")"
   ]
  },
  {
   "cell_type": "code",
   "execution_count": 31,
   "id": "94d55aff-af82-42f7-885e-69cbb998b3d2",
   "metadata": {},
   "outputs": [
    {
     "data": {
      "text/plain": [
       "array([-0.53541446, -0.65919566, -0.07774067, ..., -0.7098379 ,\n",
       "       -1.7891219 , -2.199666  ], dtype=float32)"
      ]
     },
     "execution_count": 31,
     "metadata": {},
     "output_type": "execute_result"
    }
   ],
   "source": [
    "scores_id_val"
   ]
  },
  {
   "cell_type": "code",
   "execution_count": null,
   "id": "5e28a07e-e425-4eb4-b045-a5523eb3f626",
   "metadata": {
    "tags": []
   },
   "outputs": [
    {
     "data": {
      "text/plain": [
       "<function competence_estimation.scores.create_score_function.<locals>.score_function(features, logits)>"
      ]
     },
     "execution_count": 32,
     "metadata": {},
     "output_type": "execute_result"
    }
   ],
   "source": [
    "score_function"
   ]
  },
  {
   "cell_type": "markdown",
   "id": "radical-national",
   "metadata": {
    "tags": []
   },
   "source": [
    "## Compute various scores and metrics"
   ]
  },
  {
   "cell_type": "code",
   "execution_count": 33,
   "id": "shared-payday",
   "metadata": {},
   "outputs": [
    {
     "data": {
      "text/plain": [
       "array([-0.62244916, -0.0029006 , -1.9743159 , ..., -0.98789096,\n",
       "        0.5329118 , -2.0462205 ], dtype=float32)"
      ]
     },
     "execution_count": 33,
     "metadata": {},
     "output_type": "execute_result"
    }
   ],
   "source": [
    "scores_id_train = score_function(features_id_train, logits_id_train)\n",
    "scores_id_test  = score_function(features_id_test, logits_id_test)\n",
    "\n",
    "scores_id_train"
   ]
  },
  {
   "cell_type": "code",
   "execution_count": 34,
   "id": "35fd4f95-b073-40d1-8a6d-1c45be6443b6",
   "metadata": {},
   "outputs": [
    {
     "data": {
      "text/plain": [
       "array([-2.1112394, -0.5813067,  2.4081006, ..., -2.6079154, -0.9722705,\n",
       "       -0.6477413], dtype=float32)"
      ]
     },
     "execution_count": 34,
     "metadata": {},
     "output_type": "execute_result"
    }
   ],
   "source": [
    "scores_id_test"
   ]
  },
  {
   "cell_type": "code",
   "execution_count": 45,
   "id": "a94db547-cbf0-46c5-98b5-c0e262ccb2b9",
   "metadata": {},
   "outputs": [],
   "source": [
    "# Here you would compute the scores for OOD data\n",
    "# Features/logits/labels Validation data\n",
    "attack = 'linfpgd'\n",
    "# attack = 'fgsm'\n",
    "# attack = 'l2df'\n",
    "# attack = 'linfdf'\n",
    "\n",
    "features_ood = np.squeeze(np.load(f\"{dataset_path}/features_{attack}_{model}_test.npy\"))[5000:8000]\n",
    "logits_ood = np.load(f\"{dataset_path}/logits_{attack}_{model}_test.npy\")[5000:8000]\n",
    "labels_ood = np.load(f\"{dataset_path}/labels_{attack}_{model}_test.npy\")[5000:8000]"
   ]
  },
  {
   "cell_type": "code",
   "execution_count": 46,
   "id": "e668be14-3203-40e0-86e3-67aba1a4a67a",
   "metadata": {},
   "outputs": [
    {
     "data": {
      "text/plain": [
       "(3000, 512)"
      ]
     },
     "execution_count": 46,
     "metadata": {},
     "output_type": "execute_result"
    }
   ],
   "source": [
    "features_ood.shape"
   ]
  },
  {
   "cell_type": "code",
   "execution_count": 47,
   "id": "066cd325-8de1-4903-bc75-e262775d8c88",
   "metadata": {},
   "outputs": [
    {
     "data": {
      "text/plain": [
       "(3000, 10)"
      ]
     },
     "execution_count": 47,
     "metadata": {},
     "output_type": "execute_result"
    }
   ],
   "source": [
    "logits_ood.shape"
   ]
  },
  {
   "cell_type": "code",
   "execution_count": 48,
   "id": "820e7ca8-f24a-47fc-b42c-70368908f3e6",
   "metadata": {},
   "outputs": [
    {
     "data": {
      "text/plain": [
       "(3000,)"
      ]
     },
     "execution_count": 48,
     "metadata": {},
     "output_type": "execute_result"
    }
   ],
   "source": [
    "labels_ood.shape"
   ]
  },
  {
   "cell_type": "code",
   "execution_count": 49,
   "id": "653f5981-67a5-4a34-9041-02ae0eb407c3",
   "metadata": {},
   "outputs": [],
   "source": [
    "scores_ood_test = score_function(features_ood, logits_ood)"
   ]
  },
  {
   "cell_type": "code",
   "execution_count": 50,
   "id": "18857fe5-2eec-46a7-9459-c9e8634fb2d1",
   "metadata": {},
   "outputs": [],
   "source": [
    "metrics = ['quantiles']\n",
    "\n",
    "outs = compute_metric(\n",
    "    scores_id_val,\n",
    "    scores_id_test,\n",
    "    scores_ood_test,\n",
    "    features_id_train,\n",
    "    logits_id_train,\n",
    "    labels_id_train,\n",
    "    features_id_test,\n",
    "    logits_id_test,\n",
    "    labels_id_test,\n",
    "    features_ood,\n",
    "    logits_ood,\n",
    "    labels_ood,\n",
    "    metrics=metrics\n",
    ")"
   ]
  },
  {
   "cell_type": "code",
   "execution_count": 51,
   "id": "junior-camping",
   "metadata": {},
   "outputs": [
    {
     "name": "stdout",
     "output_type": "stream",
     "text": [
      "{'n_95_frac': 0.0, 'n_95': nan}\n"
     ]
    }
   ],
   "source": [
    "#n_95 is the accuracy at threshold 95%percentile of validation set\n",
    "#n_95_frac is the fraction of included samples at this particular threshold\n",
    "print(outs)"
   ]
  },
  {
   "cell_type": "code",
   "execution_count": 62,
   "id": "980c527c-d663-4c93-b5cb-2151fac4407f",
   "metadata": {},
   "outputs": [
    {
     "name": "stdout",
     "output_type": "stream",
     "text": [
      "attack:  nor\n",
      "it 0\n"
     ]
    },
    {
     "ename": "ValueError",
     "evalue": "Found array with 0 sample(s) (shape=(0, 512)) while a minimum of 1 is required by PCA.",
     "output_type": "error",
     "traceback": [
      "\u001b[0;31m---------------------------------------------------------------------------\u001b[0m",
      "\u001b[0;31mValueError\u001b[0m                                Traceback (most recent call last)",
      "Cell \u001b[0;32mIn[62], line 81\u001b[0m\n\u001b[1;32m     79\u001b[0m \u001b[38;5;28;01mif\u001b[39;00m calc_fourier: \n\u001b[1;32m     80\u001b[0m     features_ood \u001b[38;5;241m=\u001b[39m calculate_fourier_spectrum(features_ood, typ\u001b[38;5;241m=\u001b[39mtyp)\n\u001b[0;32m---> 81\u001b[0m scores_ood_test \u001b[38;5;241m=\u001b[39m \u001b[43mscore_function\u001b[49m\u001b[43m(\u001b[49m\u001b[43mfeatures_ood\u001b[49m\u001b[43m,\u001b[49m\u001b[43m \u001b[49m\u001b[43mlogits_ood\u001b[49m\u001b[43m)\u001b[49m\n\u001b[1;32m     83\u001b[0m \u001b[38;5;28;01mfor\u001b[39;00m it2, score_function_name \u001b[38;5;129;01min\u001b[39;00m \u001b[38;5;28menumerate\u001b[39m(score_fct):\n\u001b[1;32m     84\u001b[0m     scores_id_val, score_function \u001b[38;5;241m=\u001b[39m create_score_function(\n\u001b[1;32m     85\u001b[0m         features_id_train,\n\u001b[1;32m     86\u001b[0m         logits_id_train,\n\u001b[0;32m   (...)\u001b[0m\n\u001b[1;32m     94\u001b[0m         \u001b[38;5;241m*\u001b[39m\u001b[38;5;241m*\u001b[39mconfig\n\u001b[1;32m     95\u001b[0m     )\n",
      "File \u001b[0;32m~/IWR/competence_estimation_old/competence_estimation/scores.py:97\u001b[0m, in \u001b[0;36mcreate_score_function.<locals>.score_function\u001b[0;34m(feature, logits)\u001b[0m\n\u001b[1;32m     96\u001b[0m \u001b[38;5;28;01mdef\u001b[39;00m \u001b[38;5;21mscore_function\u001b[39m(feature, logits):\n\u001b[0;32m---> 97\u001b[0m     scores \u001b[38;5;241m=\u001b[39m \u001b[43mrec_err\u001b[49m\u001b[43m(\u001b[49m\u001b[43mfeature\u001b[49m\u001b[43m)\u001b[49m\n\u001b[1;32m     98\u001b[0m     \u001b[38;5;28;01mreturn\u001b[39;00m scores\n",
      "File \u001b[0;32m~/IWR/competence_estimation_old/competence_estimation/scores.py:91\u001b[0m, in \u001b[0;36mcreate_score_function.<locals>.<lambda>\u001b[0;34m(x)\u001b[0m\n\u001b[1;32m     88\u001b[0m mod \u001b[38;5;241m=\u001b[39m PCA(n_components\u001b[38;5;241m=\u001b[39mkwargs[\u001b[38;5;124m'\u001b[39m\u001b[38;5;124mPCA\u001b[39m\u001b[38;5;124m'\u001b[39m][\u001b[38;5;124m'\u001b[39m\u001b[38;5;124mn_components\u001b[39m\u001b[38;5;124m'\u001b[39m])\n\u001b[1;32m     89\u001b[0m mod\u001b[38;5;241m.\u001b[39mfit(x_id_train)\n\u001b[1;32m     90\u001b[0m rec_err \u001b[38;5;241m=\u001b[39m \u001b[38;5;28;01mlambda\u001b[39;00m x: np\u001b[38;5;241m.\u001b[39mmean(\n\u001b[0;32m---> 91\u001b[0m     np\u001b[38;5;241m.\u001b[39msquare((mod\u001b[38;5;241m.\u001b[39minverse_transform(\u001b[43mmod\u001b[49m\u001b[38;5;241;43m.\u001b[39;49m\u001b[43mtransform\u001b[49m\u001b[43m(\u001b[49m\u001b[43mx\u001b[49m\u001b[43m)\u001b[49m) \u001b[38;5;241m-\u001b[39m x)), axis\u001b[38;5;241m=\u001b[39m\u001b[38;5;241m1\u001b[39m\n\u001b[1;32m     92\u001b[0m )\n\u001b[1;32m     94\u001b[0m scores_id \u001b[38;5;241m=\u001b[39m rec_err(x_id_val)\n\u001b[1;32m     96\u001b[0m \u001b[38;5;28;01mdef\u001b[39;00m \u001b[38;5;21mscore_function\u001b[39m(feature, logits):\n",
      "File \u001b[0;32m~/.conda/envs/ood/lib/python3.9/site-packages/sklearn/decomposition/_base.py:120\u001b[0m, in \u001b[0;36m_BasePCA.transform\u001b[0;34m(self, X)\u001b[0m\n\u001b[1;32m    101\u001b[0m \u001b[38;5;124;03m\"\"\"Apply dimensionality reduction to X.\u001b[39;00m\n\u001b[1;32m    102\u001b[0m \n\u001b[1;32m    103\u001b[0m \u001b[38;5;124;03mX is projected on the first principal components previously extracted\u001b[39;00m\n\u001b[0;32m   (...)\u001b[0m\n\u001b[1;32m    116\u001b[0m \u001b[38;5;124;03m    is the number of samples and `n_components` is the number of the components.\u001b[39;00m\n\u001b[1;32m    117\u001b[0m \u001b[38;5;124;03m\"\"\"\u001b[39;00m\n\u001b[1;32m    118\u001b[0m check_is_fitted(\u001b[38;5;28mself\u001b[39m)\n\u001b[0;32m--> 120\u001b[0m X \u001b[38;5;241m=\u001b[39m \u001b[38;5;28;43mself\u001b[39;49m\u001b[38;5;241;43m.\u001b[39;49m\u001b[43m_validate_data\u001b[49m\u001b[43m(\u001b[49m\u001b[43mX\u001b[49m\u001b[43m,\u001b[49m\u001b[43m \u001b[49m\u001b[43mdtype\u001b[49m\u001b[38;5;241;43m=\u001b[39;49m\u001b[43m[\u001b[49m\u001b[43mnp\u001b[49m\u001b[38;5;241;43m.\u001b[39;49m\u001b[43mfloat64\u001b[49m\u001b[43m,\u001b[49m\u001b[43m \u001b[49m\u001b[43mnp\u001b[49m\u001b[38;5;241;43m.\u001b[39;49m\u001b[43mfloat32\u001b[49m\u001b[43m]\u001b[49m\u001b[43m,\u001b[49m\u001b[43m \u001b[49m\u001b[43mreset\u001b[49m\u001b[38;5;241;43m=\u001b[39;49m\u001b[38;5;28;43;01mFalse\u001b[39;49;00m\u001b[43m)\u001b[49m\n\u001b[1;32m    121\u001b[0m \u001b[38;5;28;01mif\u001b[39;00m \u001b[38;5;28mself\u001b[39m\u001b[38;5;241m.\u001b[39mmean_ \u001b[38;5;129;01mis\u001b[39;00m \u001b[38;5;129;01mnot\u001b[39;00m \u001b[38;5;28;01mNone\u001b[39;00m:\n\u001b[1;32m    122\u001b[0m     X \u001b[38;5;241m=\u001b[39m X \u001b[38;5;241m-\u001b[39m \u001b[38;5;28mself\u001b[39m\u001b[38;5;241m.\u001b[39mmean_\n",
      "File \u001b[0;32m~/.conda/envs/ood/lib/python3.9/site-packages/sklearn/base.py:577\u001b[0m, in \u001b[0;36mBaseEstimator._validate_data\u001b[0;34m(self, X, y, reset, validate_separately, **check_params)\u001b[0m\n\u001b[1;32m    575\u001b[0m     \u001b[38;5;28;01mraise\u001b[39;00m \u001b[38;5;167;01mValueError\u001b[39;00m(\u001b[38;5;124m\"\u001b[39m\u001b[38;5;124mValidation should be done on X, y or both.\u001b[39m\u001b[38;5;124m\"\u001b[39m)\n\u001b[1;32m    576\u001b[0m \u001b[38;5;28;01melif\u001b[39;00m \u001b[38;5;129;01mnot\u001b[39;00m no_val_X \u001b[38;5;129;01mand\u001b[39;00m no_val_y:\n\u001b[0;32m--> 577\u001b[0m     X \u001b[38;5;241m=\u001b[39m \u001b[43mcheck_array\u001b[49m\u001b[43m(\u001b[49m\u001b[43mX\u001b[49m\u001b[43m,\u001b[49m\u001b[43m \u001b[49m\u001b[43minput_name\u001b[49m\u001b[38;5;241;43m=\u001b[39;49m\u001b[38;5;124;43m\"\u001b[39;49m\u001b[38;5;124;43mX\u001b[39;49m\u001b[38;5;124;43m\"\u001b[39;49m\u001b[43m,\u001b[49m\u001b[43m \u001b[49m\u001b[38;5;241;43m*\u001b[39;49m\u001b[38;5;241;43m*\u001b[39;49m\u001b[43mcheck_params\u001b[49m\u001b[43m)\u001b[49m\n\u001b[1;32m    578\u001b[0m     out \u001b[38;5;241m=\u001b[39m X\n\u001b[1;32m    579\u001b[0m \u001b[38;5;28;01melif\u001b[39;00m no_val_X \u001b[38;5;129;01mand\u001b[39;00m \u001b[38;5;129;01mnot\u001b[39;00m no_val_y:\n",
      "File \u001b[0;32m~/.conda/envs/ood/lib/python3.9/site-packages/sklearn/utils/validation.py:909\u001b[0m, in \u001b[0;36mcheck_array\u001b[0;34m(array, accept_sparse, accept_large_sparse, dtype, order, copy, force_all_finite, ensure_2d, allow_nd, ensure_min_samples, ensure_min_features, estimator, input_name)\u001b[0m\n\u001b[1;32m    907\u001b[0m     n_samples \u001b[38;5;241m=\u001b[39m _num_samples(array)\n\u001b[1;32m    908\u001b[0m     \u001b[38;5;28;01mif\u001b[39;00m n_samples \u001b[38;5;241m<\u001b[39m ensure_min_samples:\n\u001b[0;32m--> 909\u001b[0m         \u001b[38;5;28;01mraise\u001b[39;00m \u001b[38;5;167;01mValueError\u001b[39;00m(\n\u001b[1;32m    910\u001b[0m             \u001b[38;5;124m\"\u001b[39m\u001b[38;5;124mFound array with \u001b[39m\u001b[38;5;132;01m%d\u001b[39;00m\u001b[38;5;124m sample(s) (shape=\u001b[39m\u001b[38;5;132;01m%s\u001b[39;00m\u001b[38;5;124m) while a\u001b[39m\u001b[38;5;124m\"\u001b[39m\n\u001b[1;32m    911\u001b[0m             \u001b[38;5;124m\"\u001b[39m\u001b[38;5;124m minimum of \u001b[39m\u001b[38;5;132;01m%d\u001b[39;00m\u001b[38;5;124m is required\u001b[39m\u001b[38;5;132;01m%s\u001b[39;00m\u001b[38;5;124m.\u001b[39m\u001b[38;5;124m\"\u001b[39m\n\u001b[1;32m    912\u001b[0m             \u001b[38;5;241m%\u001b[39m (n_samples, array\u001b[38;5;241m.\u001b[39mshape, ensure_min_samples, context)\n\u001b[1;32m    913\u001b[0m         )\n\u001b[1;32m    915\u001b[0m \u001b[38;5;28;01mif\u001b[39;00m ensure_min_features \u001b[38;5;241m>\u001b[39m \u001b[38;5;241m0\u001b[39m \u001b[38;5;129;01mand\u001b[39;00m array\u001b[38;5;241m.\u001b[39mndim \u001b[38;5;241m==\u001b[39m \u001b[38;5;241m2\u001b[39m:\n\u001b[1;32m    916\u001b[0m     n_features \u001b[38;5;241m=\u001b[39m array\u001b[38;5;241m.\u001b[39mshape[\u001b[38;5;241m1\u001b[39m]\n",
      "\u001b[0;31mValueError\u001b[0m: Found array with 0 sample(s) (shape=(0, 512)) while a minimum of 1 is required by PCA."
     ]
    }
   ],
   "source": [
    "# load_fourier = False\n",
    "load_fourier = False\n",
    "typ = \"MFS\"\n",
    "# typ = \"PFS\"\n",
    "\n",
    "calc_fourier = False\n",
    "\n",
    "#assert (load_fourier != calc_fourier)\n",
    "# typ = \"\"\n",
    "\n",
    "# Here you have to include your own path\n",
    "# dataset_path = \"/home/DATA/ITWM/lorenzp/\"\n",
    "dataset_path = \"/home/lorenzp/workspace/competence_estimation/features/cifar10\"\n",
    "# algorithm = \"ERM\"\n",
    "model = \"resnet18\"\n",
    "\n",
    "w = np.load(f\"{dataset_path}/{model}_W.npy\")\n",
    "b = np.load(f\"{dataset_path}/{model}_b.npy\")\n",
    "\n",
    "\n",
    "load_data = \"{}\".format(model)\n",
    "if load_fourier:\n",
    "    load_data = typ + '_' + load_data\n",
    "\n",
    "# Features/logits/labels Trainings data\n",
    "features_id_train =  np.load(f\"{dataset_path}/features_{load_data}_train.npy\")[:5000]\n",
    "logits_id_train = np.load(f\"{dataset_path}/logits_{load_data}_train.npy\")[:5000]\n",
    "labels_id_train =  np.load(f\"{dataset_path}/labels_{load_data}_train.npy\")[:5000]\n",
    "\n",
    "# Features/logits/labels Validation data\n",
    "features_id_val = np.load(f\"{dataset_path}/features_{load_data}_train.npy\")[5000:10000]\n",
    "logits_id_val = np.load(f\"{dataset_path}/logits_{load_data}_train.npy\")[5000:10000]\n",
    "labels_id_val = np.load(f\"{dataset_path}/labels_{load_data}_train.npy\")[5000:10000]\n",
    "\n",
    "# Features/logits/labels Test data\n",
    "features_id_test = np.load(f\"{dataset_path}/features_{load_data}_test.npy\")[10000:15000]\n",
    "logits_id_test = np.load(f\"{dataset_path}/logits_{load_data}_test.npy\")[10000:15000]\n",
    "labels_id_test = np.load(f\"{dataset_path}/labels_{load_data}_test.npy\")[10000:15000]\n",
    "\n",
    "\n",
    "# # Features/logits/labels Validation data\n",
    "# features_id_val = np.load(f\"{dataset_path}/features_{load_data}_test.npy\")[:5000]\n",
    "# logits_id_val = np.load(f\"{dataset_path}/logits_{load_data}_test.npy\")[:5000]\n",
    "# labels_id_val = np.load(f\"{dataset_path}/labels_{load_data}_test.npy\")[:5000]\n",
    "\n",
    "# # Features/logits/labels Test data\n",
    "# features_id_test = np.load(f\"{dataset_path}/features_{load_data}_test.npy\")[5000:]\n",
    "# logits_id_test = np.load(f\"{dataset_path}/logits_{load_data}_test.npy\")[5000:]\n",
    "# labels_id_test = np.load(f\"{dataset_path}/labels_{load_data}_test.npy\")[5000:]\n",
    "\n",
    "metrics = ['quantiles']\n",
    "results = {}\n",
    "attacks = ['nor', 'fgsm', 'linfpgd', 'linfdf', 'l2df']\n",
    "score_fct = [\"max_softmax\", \"max_logit\", \"vim\", \"mahalanobis\", \"knn\", \"energy\", \"energy_react\", \"GMM\",  \"PCA\"]\n",
    "# attacks = ['pgd']\n",
    "# score_fct = [ \"vim\" ]\n",
    "\n",
    "\n",
    "if calc_fourier: \n",
    "    features_id_train = calculate_fourier_spectrum(features_id_train, typ=typ)\n",
    "    features_id_val = calculate_fourier_spectrum(features_id_val, typ=typ)\n",
    "    features_id_test = calculate_fourier_spectrum(features_id_test, typ=typ)\n",
    "\n",
    "\n",
    "for it, attack in enumerate(attacks):\n",
    "    print(\"attack: \", attack)\n",
    "    results[attack] = {}\n",
    "    \n",
    "    if it == 0:\n",
    "        print(\"it\", it)\n",
    "        features_ood = features_id_test     \n",
    "        logits_ood =   logits_id_test   \n",
    "        labels_ood =   labels_id_test    \n",
    "    else:\n",
    "        features_ood = np.squeeze(np.load(f\"{dataset_path}/features_{attack}_{load_data}_test.npy\"))[5000:8000]\n",
    "        logits_ood = np.load(f\"{dataset_path}/logits_{attack}_{load_data}_test.npy\")[5000:8000]\n",
    "        labels_ood = np.load(f\"{dataset_path}/labels_{attack}_{load_data}_test.npy\")[5000:8000]\n",
    "    \n",
    "    if calc_fourier: \n",
    "        features_ood = calculate_fourier_spectrum(features_ood, typ=typ)\n",
    "    scores_ood_test = score_function(features_ood, logits_ood)\n",
    "    \n",
    "    for it2, score_function_name in enumerate(score_fct):\n",
    "        scores_id_val, score_function = create_score_function(\n",
    "            features_id_train,\n",
    "            logits_id_train,\n",
    "            labels_id_train,\n",
    "            features_id_val,\n",
    "            logits_id_val,\n",
    "            labels_id_val,\n",
    "            w,\n",
    "            b,\n",
    "            score_function =  score_function_name,\n",
    "            **config\n",
    "        )\n",
    "        scores_id_train = score_function(features_id_train, logits_id_train)\n",
    "        scores_id_test  = score_function(features_id_test, logits_id_test)\n",
    "                                         \n",
    "        outs = compute_metric(\n",
    "            scores_id_val,\n",
    "            scores_id_test,\n",
    "            scores_ood_test,\n",
    "            features_id_train,\n",
    "            logits_id_train,\n",
    "            labels_id_train,\n",
    "            features_id_test,\n",
    "            logits_id_test,\n",
    "            labels_id_test,\n",
    "            features_ood,\n",
    "            logits_ood,\n",
    "            labels_ood,\n",
    "            metrics=metrics\n",
    "        )\n",
    "\n",
    "        print(score_function_name, outs)\n",
    "        results[attack][score_function_name] = outs['n_95_frac']\n",
    "        \n",
    "keys = list(results.keys())\n",
    "methods  = list(results[keys[0]].keys())\n",
    "        \n",
    "table = {}\n",
    "\n",
    "for method in methods: \n",
    "    table[method] = []\n",
    "    \n",
    "    for  key in keys:\n",
    "        table[method].append(results[key][method])"
   ]
  },
  {
   "cell_type": "code",
   "execution_count": 53,
   "id": "b1eb985f-ce20-4949-903d-f5c1d0273c1c",
   "metadata": {},
   "outputs": [
    {
     "data": {
      "image/png": "[encoded data removed]",
      "text/plain": [
       "<Figure size 640x480 with 1 Axes>"
      ]
     },
     "metadata": {},
     "output_type": "display_data"
    }
   ],
   "source": [
    "raw_data = {\n",
    "    'plan_type':  ['FGSM-$L^\\infty$', 'PGD-$L^\\infty$', 'DF-$L^\\infty$', 'DF-$L^2$'],\n",
    "}\n",
    "\n",
    "for method in methods:\n",
    "    raw_data[ method] = table[method]\n",
    "\n",
    "df = pd.DataFrame(raw_data, columns=methods)\n",
    "ax = df.plot.bar(rot=0, color=[\"#ff7f0e\", \"#2ca02c\", '#d62728', '#9467bd', \"#8c564b\", \"#e377c2\", '#7f7f7f', '#bcbd22', '#17becf'], width=0.9)\n",
    "\n",
    "for p in ax.patches[0:]:\n",
    "    h = p.get_height()\n",
    "    x = p.get_x()+p.get_width()/2.\n",
    "    if h != 0:\n",
    "        ax.annotate(\"%g\" % p.get_height(), xy=(x, h), xytext=(0, 3), rotation=90, \n",
    "                   textcoords=\"offset points\", ha=\"center\", va=\"bottom\")\n",
    "\n",
    "plt.title(\"calc_fourier_{}_load_fourier_{}_typ_{}\".format(calc_fourier, load_fourier, typ))\n",
    "      \n",
    "ax.set_ylim(0, 1.2)\n",
    "ax.legend(title=\"Detectors\", bbox_to_anchor=(1.0, 1), loc='upper left')\n",
    "ax.set_xticklabels(raw_data[\"plan_type\"])\n",
    "plt.xlabel(\"attacks\")\n",
    "plt.ylabel(\"n_95_frac\")\n",
    "\n",
    "plt.savefig(\"figures/calc_fourier_{}_load_fourier_{}_typ_{}\".format(calc_fourier, load_fourier, typ), bbox_inches='tight', dpi=300)"
   ]
  },
  {
   "cell_type": "code",
   "execution_count": 43,
   "id": "e46ceb2f-a6c4-41a4-b5cb-adcc672178e6",
   "metadata": {},
   "outputs": [
    {
     "name": "stdout",
     "output_type": "stream",
     "text": [
      "load_data MFS_resnet18\n"
     ]
    }
   ],
   "source": [
    "# load_fourier = False\n",
    "load_fourier = True\n",
    "typ = \"MFS\"\n",
    "# typ = \"PFS\"\n",
    "\n",
    "calc_fourier = False\n",
    "# typ = \"\"\n",
    "\n",
    "# Here you have to include your own path\n",
    "# dataset_path = \"/home/DATA/ITWM/lorenzp/\"\n",
    "dataset_path = \"/home/lorenzp/workspace/competence_estimation/features/cifar10\"\n",
    "# algorithm = \"ERM\"\n",
    "model = \"resnet18\"\n",
    "\n",
    "w = np.load(f\"{dataset_path}/{model}_W.npy\")\n",
    "b = np.load(f\"{dataset_path}/{model}_b.npy\")\n",
    "\n",
    "\n",
    "load_data = \"{}\".format(model)\n",
    "if load_fourier:\n",
    "    load_data = typ + '_' + load_data\n",
    "    \n",
    "print(\"load_data\", load_data)\n",
    "\n",
    "# Features/logits/labels Trainings data\n",
    "features_id_train = np.load(f\"{dataset_path}/features_{load_data}_train.npy\")[:5000]\n",
    "logits_id_train   = np.load(f\"{dataset_path}/logits_{load_data}_train.npy\")[:5000]\n",
    "labels_id_train   = np.load(f\"{dataset_path}/labels_{load_data}_train.npy\")[:5000]\n",
    "\n",
    "# Features/logits/labels Validation data\n",
    "features_id_val = np.load(f\"{dataset_path}/features_{load_data}_test.npy\")[:5000]\n",
    "logits_id_val   = np.load(f\"{dataset_path}/logits_{load_data}_test.npy\")[:5000]\n",
    "labels_id_val   = np.load(f\"{dataset_path}/labels_{load_data}_test.npy\")[:5000]\n",
    "\n",
    "# Features/logits/labels Test data\n",
    "features_id_test = np.load(f\"{dataset_path}/features_{load_data}_test.npy\")[5000:]\n",
    "logits_id_test   = np.load(f\"{dataset_path}/logits_{load_data}_test.npy\")[5000:]\n",
    "labels_id_test   = np.load(f\"{dataset_path}/labels_{load_data}_test.npy\")[5000:]"
   ]
  },
  {
   "cell_type": "code",
   "execution_count": 44,
   "id": "a6df3caf-df00-4482-9dcc-7a48955be534",
   "metadata": {},
   "outputs": [
    {
     "name": "stdout",
     "output_type": "stream",
     "text": [
      "attack:  linfpgd\n",
      "vim {'n_95_frac': 1.0, 'n_95': 0.09733333438634872}\n",
      "attack:  fgsm\n",
      "vim {'n_95_frac': 0.7013333333333334, 'n_95': 0.1278517097234726}\n",
      "attack:  l2df\n",
      "vim {'n_95_frac': 0.6706666666666666, 'n_95': 0.1312127262353897}\n",
      "attack:  linfdf\n",
      "vim {'n_95_frac': 0.6663333333333333, 'n_95': 0.1320660263299942}\n"
     ]
    }
   ],
   "source": [
    "metrics = ['quantiles']\n",
    "results = {}\n",
    "attacks = ['linfpgd', 'fgsm', 'l2df', 'linfdf']\n",
    "# score_fct = [\"max_softmax\", \"max_logit\", \"vim\", \"mahalanobis\", \"knn\", \"energy\", \"energy_react\", \"GMM\",  \"PCA\"]\n",
    "# attacks = ['pgd']\n",
    "score_fct = [\"vim\" ]\n",
    "\n",
    "\n",
    "if calc_fourier: \n",
    "    features_id_train = calculate_fourier_spectrum(features_id_train, typ=typ)\n",
    "    features_id_val = calculate_fourier_spectrum(features_id_val, typ=typ)\n",
    "    features_id_test = calculate_fourier_spectrum(features_id_test, typ=typ)\n",
    "\n",
    "\n",
    "for it, attack in enumerate(attacks):\n",
    "\n",
    "    print(\"attack: \", attack)\n",
    "    results[attack] = {}\n",
    "\n",
    "    features_ood = np.squeeze(np.load(f\"{dataset_path}/features_{attack}_{load_data}_test.npy\"))[5000:8000]\n",
    "    logits_ood = np.load(f\"{dataset_path}/logits_{attack}_{load_data}_test.npy\")[5000:8000]\n",
    "    labels_ood = np.load(f\"{dataset_path}/labels_{attack}_{load_data}_test.npy\")[5000:8000]\n",
    "    \n",
    "    if calc_fourier: \n",
    "        features_ood = calculate_fourier_spectrum(features_ood, typ=typ)\n",
    "    scores_ood_test = score_function(features_ood, logits_ood)\n",
    "    \n",
    "    for it2, score_function_name in enumerate(score_fct):\n",
    "        scores_id_val, score_function = create_score_function(\n",
    "            features_id_train,\n",
    "            logits_id_train,\n",
    "            labels_id_train,\n",
    "            features_id_val,\n",
    "            logits_id_val,\n",
    "            labels_id_val,\n",
    "            w,\n",
    "            b,\n",
    "            score_function =  score_function_name,\n",
    "            **config\n",
    "        )\n",
    "        scores_id_train = score_function(features_id_train, logits_id_train)\n",
    "        scores_id_test  = score_function(features_id_test, logits_id_test)\n",
    "                                         \n",
    "        outs = compute_metric(\n",
    "            scores_id_val,\n",
    "            scores_id_test,\n",
    "            scores_ood_test,\n",
    "            features_id_train,\n",
    "            logits_id_train,\n",
    "            labels_id_train,\n",
    "            features_id_test,\n",
    "            logits_id_test,\n",
    "            labels_id_test,\n",
    "            features_ood,\n",
    "            logits_ood,\n",
    "            labels_ood,\n",
    "            metrics=metrics\n",
    "        )\n",
    "\n",
    "        print(score_function_name, outs)\n",
    "        results[attack][score_function_name] = outs['n_95_frac']\n",
    "        \n",
    "# keys = list(results.keys())\n",
    "# methods  = list(results[keys[0]].keys())\n",
    "        \n",
    "# table = {}\n",
    "\n",
    "# for method in methods: \n",
    "#     table[method] = []\n",
    "    \n",
    "#     for  key in keys:\n",
    "#         table[method].append(results[key][method])"
   ]
  }
 ],
 "metadata": {
  "kernelspec": {
   "display_name": "Python [conda env:.conda-ood]",
   "language": "python",
   "name": "conda-env-.conda-ood-py"
  },
  "language_info": {
   "codemirror_mode": {
    "name": "ipython",
    "version": 3
   },
   "file_extension": ".py",
   "mimetype": "text/x-python",
   "name": "python",
   "nbconvert_exporter": "python",
   "pygments_lexer": "ipython3",
   "version": "3.9.13"
  },
  "vscode": {
   "interpreter": {
    "hash": "7777e8cd77b1a42d3e413a64ab2dd2719a1140100efcec2477e8dd7f016d0079"
   }
  }
 },
 "nbformat": 4,
 "nbformat_minor": 5
}
