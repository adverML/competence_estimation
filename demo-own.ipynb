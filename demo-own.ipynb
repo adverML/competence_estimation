{
 "cells": [
  {
   "cell_type": "code",
   "execution_count": 1,
   "id": "smart-command",
   "metadata": {},
   "outputs": [],
   "source": [
    "import numpy as np\n",
    "import yaml\n",
    "import torch\n",
    "import torch.nn as nn\n",
    "import torch.nn.functional as F\n",
    "\n",
    "from competence_estimation.utils import load_data, get_network_weights, mix_open\n",
    "from competence_estimation.scores  import create_score_function\n",
    "from competence_estimation.metrics  import compute_metric"
   ]
  },
  {
   "cell_type": "markdown",
   "id": "automotive-picnic",
   "metadata": {},
   "source": [
    "# Short Introduction"
   ]
  },
  {
   "cell_type": "markdown",
   "id": "distributed-modification",
   "metadata": {},
   "source": [
    "The following files are required:\n",
    "* {x}_id_train.npy\n",
    "* {x}_id_val.npy\n",
    "* {x}_id_test.npy\n",
    "where x = features, logits, labels\n",
    "\n",
    "and the same for ood samples:\n",
    "* {x}_ood\n",
    "where x = features, logits, labels\n",
    "\n",
    "Additionally we require the weights w and biases b of the last layer"
   ]
  },
  {
   "cell_type": "markdown",
   "id": "removed-fence",
   "metadata": {},
   "source": [
    "# Data and Config Loading"
   ]
  },
  {
   "cell_type": "code",
   "execution_count": 27,
   "id": "2da8de63-7571-475e-aaa0-e29835c3d022",
   "metadata": {},
   "outputs": [],
   "source": [
    "def calculate_fourier_spectrum(im, typ='MFS'):\n",
    "    # im = im.float()\n",
    "    # im = im.cpu()\n",
    "    # im = im.data.numpy() # transform to numpy\n",
    "    fft = np.fft.fft2(im)\n",
    "    if typ == 'MFS':\n",
    "        fourier_spectrum = np.abs(fft)\n",
    "    elif typ == 'PFS':\n",
    "        fourier_spectrum = np.abs(np.angle(fft))\n",
    "    # if  (args.net == 'cif100' or args.net == 'cif100vgg') and (args.attack=='cw' or args.attack=='df'):\n",
    "    #     fourier_spectrum *= 1/np.max(fourier_spectrum)\n",
    "    return fourier_spectrum"
   ]
  },
  {
   "cell_type": "code",
   "execution_count": 28,
   "id": "orange-cassette",
   "metadata": {},
   "outputs": [],
   "source": [
    "with open(\"config.yml\", \"r\") as file:\n",
    "    config = yaml.safe_load(file)"
   ]
  },
  {
   "cell_type": "code",
   "execution_count": 29,
   "id": "historic-arthur",
   "metadata": {},
   "outputs": [],
   "source": [
    "# Here you have to include your own path\n",
    "# dataset_path = \"/home/DATA/ITWM/lorenzp/\"\n",
    "dataset_path = \"/home/lorenzp/workspace/competence_estimation/features/cifar10\"\n",
    "# algorithm = \"ERM\"\n",
    "model = \"resnet18\"\n",
    "\n",
    "w = np.load(f\"{dataset_path}/{model}_W.npy\")\n",
    "b = np.load(f\"{dataset_path}/{model}_b.npy\")\n",
    "\n",
    "# Features/logits/labels Trainings data\n",
    "features_id_train =  np.load(f\"{dataset_path}/features_{model}_train.npy\")[:5000]\n",
    "logits_id_train = np.load(f\"{dataset_path}/logits_{model}_train.npy\")[:5000]\n",
    "labels_id_train =  np.load(f\"{dataset_path}/labels_{model}_train.npy\")[:5000]\n",
    "\n",
    "# Features/logits/labels Validation data\n",
    "features_id_val = np.load(f\"{dataset_path}/features_{model}_test.npy\")[:5000]\n",
    "logits_id_val = np.load(f\"{dataset_path}/logits_{model}_test.npy\")[:5000]\n",
    "labels_id_val = np.load(f\"{dataset_path}/labels_{model}_test.npy\")[:5000]\n",
    "\n",
    "# Features/logits/labels Test data\n",
    "features_id_test = np.load(f\"{dataset_path}/features_{model}_test.npy\")[5000:]\n",
    "logits_id_test = np.load(f\"{dataset_path}/logits_{model}_test.npy\")[5000:]\n",
    "labels_id_test = np.load(f\"{dataset_path}/labels_{model}_test.npy\")[5000:]"
   ]
  },
  {
   "cell_type": "code",
   "execution_count": 30,
   "id": "b0687161-30bb-480e-bd67-8de5aeb11822",
   "metadata": {},
   "outputs": [
    {
     "data": {
      "text/plain": [
       "(10, 512)"
      ]
     },
     "execution_count": 30,
     "metadata": {},
     "output_type": "execute_result"
    }
   ],
   "source": [
    "w.shape"
   ]
  },
  {
   "cell_type": "code",
   "execution_count": 31,
   "id": "bb376ca6-986c-4df9-b079-41fd9fa9f67b",
   "metadata": {},
   "outputs": [
    {
     "data": {
      "text/plain": [
       "(10,)"
      ]
     },
     "execution_count": 31,
     "metadata": {},
     "output_type": "execute_result"
    }
   ],
   "source": [
    "b.shape"
   ]
  },
  {
   "cell_type": "code",
   "execution_count": 32,
   "id": "e2600d8d-835e-408b-9f59-7420f5145613",
   "metadata": {},
   "outputs": [
    {
     "data": {
      "text/plain": [
       "(5000, 512)"
      ]
     },
     "execution_count": 32,
     "metadata": {},
     "output_type": "execute_result"
    }
   ],
   "source": [
    "features_id_train.shape"
   ]
  },
  {
   "cell_type": "code",
   "execution_count": 33,
   "id": "1436e4b0-8c5c-469c-b0e3-91370528c245",
   "metadata": {},
   "outputs": [
    {
     "data": {
      "text/plain": [
       "(5000, 512)"
      ]
     },
     "execution_count": 33,
     "metadata": {},
     "output_type": "execute_result"
    }
   ],
   "source": [
    "np.squeeze(features_id_train).shape"
   ]
  },
  {
   "cell_type": "code",
   "execution_count": 34,
   "id": "1b9ff0b8-6563-4699-8107-b0c8d31c86b9",
   "metadata": {},
   "outputs": [
    {
     "data": {
      "text/plain": [
       "(5000, 512)"
      ]
     },
     "execution_count": 34,
     "metadata": {},
     "output_type": "execute_result"
    }
   ],
   "source": [
    "features_id_val.shape"
   ]
  },
  {
   "cell_type": "code",
   "execution_count": 35,
   "id": "77410722-2f4a-44f9-b9f9-ffc2c04553d0",
   "metadata": {},
   "outputs": [
    {
     "data": {
      "text/plain": [
       "(5000, 512)"
      ]
     },
     "execution_count": 35,
     "metadata": {},
     "output_type": "execute_result"
    }
   ],
   "source": [
    "features_id_test.shape"
   ]
  },
  {
   "cell_type": "code",
   "execution_count": 36,
   "id": "389f9d8e-c605-43b8-90fd-bb7ed8a6c18b",
   "metadata": {},
   "outputs": [],
   "source": [
    "features_id_train = np.squeeze(features_id_train)\n",
    "features_id_val = np.squeeze(features_id_val)\n",
    "features_id_test = np.squeeze(features_id_test)"
   ]
  },
  {
   "cell_type": "code",
   "execution_count": 37,
   "id": "cab7b5e7-7dbb-41a0-8366-c3147972a474",
   "metadata": {},
   "outputs": [
    {
     "data": {
      "text/plain": [
       "(5000, 10)"
      ]
     },
     "execution_count": 37,
     "metadata": {},
     "output_type": "execute_result"
    }
   ],
   "source": [
    "logits_id_train.shape"
   ]
  },
  {
   "cell_type": "code",
   "execution_count": 38,
   "id": "e5ba3dbb-aa0d-4783-a794-54994132f326",
   "metadata": {},
   "outputs": [
    {
     "data": {
      "text/plain": [
       "(5000,)"
      ]
     },
     "execution_count": 38,
     "metadata": {},
     "output_type": "execute_result"
    }
   ],
   "source": [
    "labels_id_train.shape"
   ]
  },
  {
   "cell_type": "code",
   "execution_count": 55,
   "id": "f391bc67-2460-41bf-8e84-9968a4661f7f",
   "metadata": {},
   "outputs": [],
   "source": [
    "# typ = 'MFS'\n",
    "typ = 'PFS'\n",
    "features_id_train = calculate_fourier_spectrum(features_id_train, typ=typ)\n",
    "features_id_val   = calculate_fourier_spectrum(features_id_val, typ=typ)\n",
    "features_id_test  = calculate_fourier_spectrum(features_id_test, typ=typ)"
   ]
  },
  {
   "cell_type": "markdown",
   "id": "foreign-scope",
   "metadata": {
    "tags": []
   },
   "source": [
    "# Score function creation"
   ]
  },
  {
   "cell_type": "markdown",
   "id": "8fadaacc-229a-4493-adfa-32d6f051f270",
   "metadata": {
    "tags": []
   },
   "source": [
    "### \"max_softmax\", \"max_logit\", \"vim\", \"mahalanobis\", \"knn\", \"energy\", \"energy_react\", \"GMM\", \"HBOS\", \"PCA\""
   ]
  },
  {
   "cell_type": "code",
   "execution_count": 56,
   "id": "naval-samba",
   "metadata": {},
   "outputs": [],
   "source": [
    "score_function_name = 'GMM' # 'vim'\n",
    "\n",
    "scores_id_val, score_function = create_score_function(\n",
    "    features_id_train,\n",
    "    logits_id_train,\n",
    "    labels_id_train,\n",
    "    features_id_val,\n",
    "    logits_id_val,\n",
    "    labels_id_val,\n",
    "    w,\n",
    "    b,\n",
    "    score_function =  score_function_name,\n",
    "    **config\n",
    ")"
   ]
  },
  {
   "cell_type": "code",
   "execution_count": 57,
   "id": "94d55aff-af82-42f7-885e-69cbb998b3d2",
   "metadata": {},
   "outputs": [
    {
     "data": {
      "text/plain": [
       "array([-847.7535549 , -802.24501866, -429.0641285 , ..., -847.7535549 ,\n",
       "       -429.0641285 , -802.24501866])"
      ]
     },
     "execution_count": 57,
     "metadata": {},
     "output_type": "execute_result"
    }
   ],
   "source": [
    "scores_id_val"
   ]
  },
  {
   "cell_type": "code",
   "execution_count": 58,
   "id": "5e28a07e-e425-4eb4-b045-a5523eb3f626",
   "metadata": {},
   "outputs": [
    {
     "data": {
      "text/plain": [
       "<function competence_estimation.scores.create_score_function.<locals>.score_function(feature, logit)>"
      ]
     },
     "execution_count": 58,
     "metadata": {},
     "output_type": "execute_result"
    }
   ],
   "source": [
    "score_function"
   ]
  },
  {
   "cell_type": "markdown",
   "id": "radical-national",
   "metadata": {
    "tags": []
   },
   "source": [
    "## Compute various scores and metrics"
   ]
  },
  {
   "cell_type": "code",
   "execution_count": 59,
   "id": "shared-payday",
   "metadata": {},
   "outputs": [
    {
     "data": {
      "text/plain": [
       "array([-847.7535549 , -731.31143017,   73.5924203 , ..., -809.37492389,\n",
       "         73.5924203 , -731.31143017])"
      ]
     },
     "execution_count": 59,
     "metadata": {},
     "output_type": "execute_result"
    }
   ],
   "source": [
    "scores_id_train = score_function(features_id_train, logits_id_train)\n",
    "scores_id_test  = score_function(features_id_test, logits_id_test)\n",
    "\n",
    "scores_id_train"
   ]
  },
  {
   "cell_type": "code",
   "execution_count": 60,
   "id": "35fd4f95-b073-40d1-8a6d-1c45be6443b6",
   "metadata": {},
   "outputs": [
    {
     "data": {
      "text/plain": [
       "array([-847.7535549 , -773.62578166, -847.7535549 , ..., -847.7535549 ,\n",
       "       -847.7535549 , -773.62578166])"
      ]
     },
     "execution_count": 60,
     "metadata": {},
     "output_type": "execute_result"
    }
   ],
   "source": [
    "scores_id_test"
   ]
  },
  {
   "cell_type": "code",
   "execution_count": 61,
   "id": "a94db547-cbf0-46c5-98b5-c0e262ccb2b9",
   "metadata": {},
   "outputs": [],
   "source": [
    "# Here you would compute the scores for OOD data\n",
    "# Features/logits/labels Validation data\n",
    "attack = 'linfpgd'\n",
    "# attack = 'fgsm'\n",
    "# attack = 'l2df'\n",
    "# attack = 'linfdf'\n",
    "\n",
    "features_ood = np.squeeze(np.load(f\"{dataset_path}/features_{attack}_{model}_test.npy\"))[5000:8000]\n",
    "logits_ood = np.load(f\"{dataset_path}/logits_{attack}_{model}_test.npy\")[5000:8000]\n",
    "labels_ood = np.load(f\"{dataset_path}/labels_{attack}_{model}_test.npy\")[5000:8000]"
   ]
  },
  {
   "cell_type": "code",
   "execution_count": 62,
   "id": "e668be14-3203-40e0-86e3-67aba1a4a67a",
   "metadata": {},
   "outputs": [
    {
     "data": {
      "text/plain": [
       "(3000, 512)"
      ]
     },
     "execution_count": 62,
     "metadata": {},
     "output_type": "execute_result"
    }
   ],
   "source": [
    "features_ood.shape"
   ]
  },
  {
   "cell_type": "code",
   "execution_count": 63,
   "id": "066cd325-8de1-4903-bc75-e262775d8c88",
   "metadata": {},
   "outputs": [
    {
     "data": {
      "text/plain": [
       "(3000, 10)"
      ]
     },
     "execution_count": 63,
     "metadata": {},
     "output_type": "execute_result"
    }
   ],
   "source": [
    "logits_ood.shape"
   ]
  },
  {
   "cell_type": "code",
   "execution_count": 64,
   "id": "820e7ca8-f24a-47fc-b42c-70368908f3e6",
   "metadata": {},
   "outputs": [
    {
     "data": {
      "text/plain": [
       "(3000,)"
      ]
     },
     "execution_count": 64,
     "metadata": {},
     "output_type": "execute_result"
    }
   ],
   "source": [
    "labels_ood.shape"
   ]
  },
  {
   "cell_type": "code",
   "execution_count": 65,
   "id": "653f5981-67a5-4a34-9041-02ae0eb407c3",
   "metadata": {},
   "outputs": [],
   "source": [
    "scores_ood_test = score_function(features_ood, logits_ood)"
   ]
  },
  {
   "cell_type": "code",
   "execution_count": 66,
   "id": "18857fe5-2eec-46a7-9459-c9e8634fb2d1",
   "metadata": {},
   "outputs": [],
   "source": [
    "metrics = ['quantiles']\n",
    "\n",
    "outs = compute_metric(\n",
    "    scores_id_val,\n",
    "    scores_id_test,\n",
    "    scores_ood_test,\n",
    "    features_id_train,\n",
    "    logits_id_train,\n",
    "    labels_id_train,\n",
    "    features_id_test,\n",
    "    logits_id_test,\n",
    "    labels_id_test,\n",
    "    features_ood,\n",
    "    logits_ood,\n",
    "    labels_ood,\n",
    "    metrics=metrics\n",
    ")"
   ]
  },
  {
   "cell_type": "code",
   "execution_count": 67,
   "id": "junior-camping",
   "metadata": {},
   "outputs": [
    {
     "name": "stdout",
     "output_type": "stream",
     "text": [
      "{'n_95_frac': 0.0, 'n_95': nan}\n"
     ]
    }
   ],
   "source": [
    "#n_95 is the accuracy at threshold 95%percentile of validation set\n",
    "#n_95_frac is the fraction of included samples at this particular threshold\n",
    "print(outs)"
   ]
  },
  {
   "cell_type": "code",
   "execution_count": 68,
   "id": "980c527c-d663-4c93-b5cb-2151fac4407f",
   "metadata": {},
   "outputs": [
    {
     "name": "stdout",
     "output_type": "stream",
     "text": [
      "attack:  linfpgd\n",
      "max_softmax {'n_95_frac': 1.0, 'n_95': 0.0026666666381061077}\n",
      "max_logit {'n_95_frac': 1.0, 'n_95': 0.0026666666381061077}\n",
      "vim {'n_95_frac': 0.0, 'n_95': nan}\n",
      "mahalanobis {'n_95_frac': 0.0, 'n_95': nan}\n",
      "knn {'n_95_frac': 0.929, 'n_95': 0.0028704700525850058}\n",
      "energy {'n_95_frac': 0.9996666666666667, 'n_95': 0.002667555818334222}\n",
      "energy_react {'n_95_frac': 0.0, 'n_95': nan}\n",
      "GMM {'n_95_frac': 0.0, 'n_95': nan}\n",
      "PCA {'n_95_frac': 0.0, 'n_95': nan}\n",
      "attack:  fgsm\n",
      "max_softmax {'n_95_frac': 0.708, 'n_95': 0.27212804555892944}\n",
      "max_logit {'n_95_frac': 0.623, 'n_95': 0.24023541808128357}\n",
      "vim {'n_95_frac': 0.0, 'n_95': nan}\n",
      "mahalanobis {'n_95_frac': 0.0, 'n_95': nan}\n",
      "knn {'n_95_frac': 0.9036666666666666, 'n_95': 0.25230541825294495}\n",
      "energy {'n_95_frac': 0.617, 'n_95': 0.23230686783790588}\n",
      "energy_react {'n_95_frac': 0.0, 'n_95': nan}\n",
      "GMM {'n_95_frac': 0.0, 'n_95': nan}\n",
      "PCA {'n_95_frac': 0.0, 'n_95': nan}\n",
      "attack:  l2df\n",
      "max_softmax {'n_95_frac': 0.151, 'n_95': 0.0}\n",
      "max_logit {'n_95_frac': 0.343, 'n_95': 0.0}\n",
      "vim {'n_95_frac': 0.0, 'n_95': nan}\n",
      "mahalanobis {'n_95_frac': 0.0, 'n_95': nan}\n",
      "knn {'n_95_frac': 0.9216666666666666, 'n_95': 0.0007233272772282362}\n",
      "energy {'n_95_frac': 0.451, 'n_95': 0.0}\n",
      "energy_react {'n_95_frac': 0.0, 'n_95': nan}\n",
      "GMM {'n_95_frac': 0.0, 'n_95': nan}\n",
      "PCA {'n_95_frac': 0.0, 'n_95': nan}\n",
      "attack:  linfdf\n",
      "max_softmax {'n_95_frac': 0.24466666666666667, 'n_95': 0.0}\n",
      "max_logit {'n_95_frac': 0.4073333333333333, 'n_95': 0.0}\n",
      "vim {'n_95_frac': 0.0, 'n_95': nan}\n",
      "mahalanobis {'n_95_frac': 0.0, 'n_95': nan}\n",
      "knn {'n_95_frac': 0.92, 'n_95': 0.0}\n",
      "energy {'n_95_frac': 0.465, 'n_95': 0.0}\n",
      "energy_react {'n_95_frac': 0.0, 'n_95': nan}\n",
      "GMM {'n_95_frac': 0.0, 'n_95': nan}\n",
      "PCA {'n_95_frac': 0.0, 'n_95': nan}\n"
     ]
    }
   ],
   "source": [
    "# attack = 'linfpgd'\n",
    "# attack = 'fgsm'\n",
    "# attack = 'l2df'\n",
    "# attack = 'linfdf'\n",
    "\n",
    "for attack in ['linfpgd', 'fgsm', 'l2df', 'linfdf']:\n",
    "\n",
    "    print(\"attack: \", attack)\n",
    "\n",
    "    score_fct = [\"max_softmax\", \"max_logit\", \"vim\", \"mahalanobis\", \"knn\", \"energy\", \"energy_react\", \"GMM\",  \"PCA\"]\n",
    "\n",
    "    for score_function_name in score_fct:\n",
    "\n",
    "        scores_id_val, score_function = create_score_function(\n",
    "            features_id_train,\n",
    "            logits_id_train,\n",
    "            labels_id_train,\n",
    "            features_id_val,\n",
    "            logits_id_val,\n",
    "            labels_id_val,\n",
    "            w,\n",
    "            b,\n",
    "            score_function =  score_function_name,\n",
    "            **config\n",
    "        )\n",
    "        scores_id_train = score_function(features_id_train, logits_id_train)\n",
    "        scores_id_test  = score_function(features_id_test, logits_id_test)\n",
    "\n",
    "        features_ood = np.squeeze(np.load(f\"{dataset_path}/features_{attack}_{model}_test.npy\"))[5000:8000]\n",
    "        logits_ood = np.load(f\"{dataset_path}/logits_{attack}_{model}_test.npy\")[5000:8000]\n",
    "        labels_ood = np.load(f\"{dataset_path}/labels_{attack}_{model}_test.npy\")[5000:8000]\n",
    "\n",
    "        features_ood = calculate_fourier_spectrum(features_ood, typ='MFS')\n",
    "\n",
    "        \n",
    "        scores_ood_test = score_function(features_ood, logits_ood)\n",
    "\n",
    "        metrics = ['quantiles']\n",
    "\n",
    "        outs = compute_metric(\n",
    "            scores_id_val,\n",
    "            scores_id_test,\n",
    "            scores_ood_test,\n",
    "            features_id_train,\n",
    "            logits_id_train,\n",
    "            labels_id_train,\n",
    "            features_id_test,\n",
    "            logits_id_test,\n",
    "            labels_id_test,\n",
    "            features_ood,\n",
    "            logits_ood,\n",
    "            labels_ood,\n",
    "            metrics=metrics\n",
    "        )\n",
    "\n",
    "        print(score_function_name, outs)"
   ]
  },
  {
   "cell_type": "code",
   "execution_count": null,
   "id": "051a443c-a24c-4d8b-a649-1b1e250d734f",
   "metadata": {},
   "outputs": [],
   "source": []
  },
  {
   "cell_type": "code",
   "execution_count": null,
   "id": "3e875ec3-20e5-45a9-b2ba-ce53e916501b",
   "metadata": {},
   "outputs": [],
   "source": []
  },
  {
   "cell_type": "code",
   "execution_count": null,
   "id": "cba808fd-ad84-489f-b270-b40ebe8284d2",
   "metadata": {},
   "outputs": [],
   "source": []
  }
 ],
 "metadata": {
  "kernelspec": {
   "display_name": "Python [conda env:.conda-ood]",
   "language": "python",
   "name": "conda-env-.conda-ood-py"
  },
  "language_info": {
   "codemirror_mode": {
    "name": "ipython",
    "version": 3
   },
   "file_extension": ".py",
   "mimetype": "text/x-python",
   "name": "python",
   "nbconvert_exporter": "python",
   "pygments_lexer": "ipython3",
   "version": "3.9.13"
  },
  "vscode": {
   "interpreter": {
    "hash": "7777e8cd77b1a42d3e413a64ab2dd2719a1140100efcec2477e8dd7f016d0079"
   }
  }
 },
 "nbformat": 4,
 "nbformat_minor": 5
}
