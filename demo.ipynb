{
 "cells": [
  {
   "cell_type": "code",
   "execution_count": 1,
   "id": "smart-command",
   "metadata": {},
   "outputs": [],
   "source": [
    "import numpy as np\n",
    "import yaml\n",
    "\n",
    "from competence_estimation.utils import load_data, get_network_weights, mix_open\n",
    "from competence_estimation.scores  import create_score_function\n",
    "from competence_estimation.metrics  import compute_metric"
   ]
  },
  {
   "cell_type": "markdown",
   "id": "automotive-picnic",
   "metadata": {},
   "source": [
    "# Short Introduction"
   ]
  },
  {
   "cell_type": "markdown",
   "id": "distributed-modification",
   "metadata": {},
   "source": [
    "The following files are required:\n",
    "* {x}_id_train.npy\n",
    "* {x}_id_val.npy\n",
    "* {x}_id_test.npy\n",
    "where x = features, logits, labels\n",
    "\n",
    "and the same for ood samples:\n",
    "* {x}_ood\n",
    "where x = features, logits, labels\n",
    "\n",
    "Additionally we require the weights w and biases b of the last layer"
   ]
  },
  {
   "cell_type": "markdown",
   "id": "removed-fence",
   "metadata": {},
   "source": [
    "# Data and Config Loading"
   ]
  },
  {
   "cell_type": "code",
   "execution_count": 23,
   "id": "orange-cassette",
   "metadata": {},
   "outputs": [],
   "source": [
    "with open(\"config.yml\", \"r\") as file:\n",
    "    config = yaml.safe_load(file)"
   ]
  },
  {
   "cell_type": "code",
   "execution_count": 28,
   "id": "historic-arthur",
   "metadata": {},
   "outputs": [],
   "source": [
    "# Here you have to include your own path\n",
    "# dataset_path = \"/home/DATA/ITWM/lorenzp/\"\n",
    "dataset_path = \"/home/lorenzp/workspace/competence_estimation/example_features\"\n",
    "algorithm = \"ERM\"\n",
    "\n",
    "w = np.load(f\"{dataset_path}/{algorithm}_W.npy\")\n",
    "b = np.load(f\"{dataset_path}/{algorithm}_b.npy\")\n",
    "\n",
    "# Features/logits/labels Trainings data\n",
    "features_id_train =  np.load(f\"{dataset_path}/{algorithm}_features_iid_train.npy\")\n",
    "logits_id_train = np.load(f\"{dataset_path}/{algorithm}_logits_iid_train.npy\")\n",
    "labels_id_train =  np.load(f\"{dataset_path}/{algorithm}_labels_iid_train.npy\")\n",
    "    \n",
    "# Features/logits/labels Validation data\n",
    "features_id_val = np.load(f\"{dataset_path}/{algorithm}_features_iid_val.npy\")\n",
    "logits_id_val = np.load(f\"{dataset_path}/{algorithm}_logits_iid_val.npy\")\n",
    "labels_id_val = np.load(f\"{dataset_path}/{algorithm}_labels_iid_val.npy\")\n",
    "\n",
    "# Features/logits/labels Test data\n",
    "features_id_test = np.load(f\"{dataset_path}/{algorithm}_features_iid_test.npy\")\n",
    "logits_id_test = np.load(f\"{dataset_path}/{algorithm}_logits_iid_test.npy\")\n",
    "labels_id_test = np.load(f\"{dataset_path}/{algorithm}_labels_iid_test.npy\")"
   ]
  },
  {
   "cell_type": "markdown",
   "id": "foreign-scope",
   "metadata": {},
   "source": [
    "# Score function creation"
   ]
  },
  {
   "cell_type": "markdown",
   "id": "8fadaacc-229a-4493-adfa-32d6f051f270",
   "metadata": {
    "tags": []
   },
   "source": [
    "### \"max_softmax\", \"max_logit\", \"vim\", \"mahalanobis\", \"knn\", \"energy\", \"energy_react\", \"GMM\", \"HBOS\", \"PCA\""
   ]
  },
  {
   "cell_type": "code",
   "execution_count": 29,
   "id": "naval-samba",
   "metadata": {},
   "outputs": [],
   "source": [
    "score_function_name = 'knn' # 'vim'\n",
    "\n",
    "scores_id_val, score_function = create_score_function(\n",
    "    features_id_train,\n",
    "    logits_id_train,\n",
    "    labels_id_train,\n",
    "    features_id_val,\n",
    "    logits_id_val,\n",
    "    labels_id_val,\n",
    "    w,\n",
    "    b,\n",
    "    score_function =  score_function_name,\n",
    "    **config\n",
    ")"
   ]
  },
  {
   "cell_type": "markdown",
   "id": "radical-national",
   "metadata": {},
   "source": [
    "## Compute various scores and metrics"
   ]
  },
  {
   "cell_type": "code",
   "execution_count": 30,
   "id": "shared-payday",
   "metadata": {},
   "outputs": [],
   "source": [
    "scores_id_train = score_function(features_id_train, logits_id_train)\n",
    "scores_id_test = score_function(features_id_test, logits_id_test)\n",
    "\n",
    "# Here you would compute the scores for OOD data\n",
    "# Features/logits/labels Validation data\n",
    "features_ood = np.load(f\"{dataset_path}/{algorithm}_features_ood_test.npy\")\n",
    "logits_ood = np.load(f\"{dataset_path}/{algorithm}_logits_ood_test.npy\")\n",
    "labels_ood = np.load(f\"{dataset_path}/{algorithm}_labels_ood_test.npy\")\n",
    "scores_ood_test = score_function(features_ood, logits_ood)\n",
    "\n",
    "metrics = ['quantiles']\n",
    "\n",
    "outs = compute_metric(scores_id_val,\n",
    "    scores_id_test,\n",
    "    scores_ood_test,\n",
    "    features_id_train,\n",
    "    logits_id_train,\n",
    "    labels_id_train,\n",
    "    features_id_test,\n",
    "    logits_id_test,\n",
    "    labels_id_test,\n",
    "    features_ood,\n",
    "    logits_ood,\n",
    "    labels_ood,\n",
    "    metrics=metrics\n",
    ")"
   ]
  },
  {
   "cell_type": "code",
   "execution_count": 31,
   "id": "junior-camping",
   "metadata": {},
   "outputs": [
    {
     "name": "stdout",
     "output_type": "stream",
     "text": [
      "{'n_95_frac': 0.0, 'n_95': nan}\n"
     ]
    }
   ],
   "source": [
    "#n_95 is the accuracy at threshold 95%percentile of validation set\n",
    "#n_95_frac is the fraction of included samples at this particular threshold\n",
    "print(outs)"
   ]
  },
  {
   "cell_type": "code",
   "execution_count": null,
   "id": "3f1a8512-ed1c-48a0-a6ab-14d3398b9986",
   "metadata": {},
   "outputs": [],
   "source": []
  }
 ],
 "metadata": {
  "kernelspec": {
   "display_name": "Python [conda env:.conda-cuda--11-1-1--pytorch--1-9-0]",
   "language": "python",
   "name": "conda-env-.conda-cuda--11-1-1--pytorch--1-9-0-py"
  },
  "language_info": {
   "codemirror_mode": {
    "name": "ipython",
    "version": 3
   },
   "file_extension": ".py",
   "mimetype": "text/x-python",
   "name": "python",
   "nbconvert_exporter": "python",
   "pygments_lexer": "ipython3",
   "version": "3.9.12"
  },
  "vscode": {
   "interpreter": {
    "hash": "7777e8cd77b1a42d3e413a64ab2dd2719a1140100efcec2477e8dd7f016d0079"
   }
  }
 },
 "nbformat": 4,
 "nbformat_minor": 5
}
