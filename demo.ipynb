{
 "cells": [
  {
   "cell_type": "code",
   "execution_count": 21,
   "id": "smart-command",
   "metadata": {},
   "outputs": [],
   "source": [
    "import numpy as np\n",
    "import yaml\n",
    "\n",
    "from competence_estimation.utils import load_data, get_network_weights, mix_open\n",
    "from competence_estimation.scores  import create_score_function\n",
    "from competence_estimation.metrics  import compute_metric"
   ]
  },
  {
   "cell_type": "markdown",
   "id": "automotive-picnic",
   "metadata": {},
   "source": [
    "# Short Introduction"
   ]
  },
  {
   "cell_type": "markdown",
   "id": "distributed-modification",
   "metadata": {},
   "source": [
    "The following files are required:\n",
    "* {x}_id_train.npy\n",
    "* {x}_id_val.npy\n",
    "* {x}_id_test.npy\n",
    "where x = features, logits, labels\n",
    "\n",
    "and the same for ood samples:\n",
    "* {x}_ood\n",
    "where x = features, logits, labels\n",
    "\n",
    "Additionally we require the weights w and biases b of the last layer"
   ]
  },
  {
   "cell_type": "markdown",
   "id": "removed-fence",
   "metadata": {},
   "source": [
    "# Data and Config Loading"
   ]
  },
  {
   "cell_type": "code",
   "execution_count": 53,
   "id": "orange-cassette",
   "metadata": {},
   "outputs": [],
   "source": [
    "with open(\"config.yml\", \"r\") as file:\n",
    "    config = yaml.safe_load(file)"
   ]
  },
  {
   "cell_type": "code",
   "execution_count": 54,
   "id": "historic-arthur",
   "metadata": {},
   "outputs": [],
   "source": [
    "# Here you have to include your own path\n",
    "# dataset_path = \"/home/DATA/ITWM/lorenzp/\"\n",
    "dataset_path = \"/home/lorenzp/workspace/competence_estimation/features/example_features\"\n",
    "algorithm = \"ERM\"\n",
    "\n",
    "w = np.load(f\"{dataset_path}/{algorithm}_W.npy\")\n",
    "b = np.load(f\"{dataset_path}/{algorithm}_b.npy\")\n",
    "\n",
    "# Features/logits/labels Trainings data\n",
    "features_id_train =  np.load(f\"{dataset_path}/{algorithm}_features_iid_train.npy\")\n",
    "logits_id_train   =  np.load(f\"{dataset_path}/{algorithm}_logits_iid_train.npy\")\n",
    "labels_id_train   =  np.load(f\"{dataset_path}/{algorithm}_labels_iid_train.npy\")\n",
    "    \n",
    "# Features/logits/labels Validation data\n",
    "features_id_val = np.load(f\"{dataset_path}/{algorithm}_features_iid_val.npy\")\n",
    "logits_id_val   = np.load(f\"{dataset_path}/{algorithm}_logits_iid_val.npy\")\n",
    "labels_id_val   = np.load(f\"{dataset_path}/{algorithm}_labels_iid_val.npy\")\n",
    "\n",
    "# Features/logits/labels Test data\n",
    "features_id_test = np.load(f\"{dataset_path}/{algorithm}_features_iid_test.npy\")\n",
    "logits_id_test   = np.load(f\"{dataset_path}/{algorithm}_logits_iid_test.npy\")\n",
    "labels_id_test   = np.load(f\"{dataset_path}/{algorithm}_labels_iid_test.npy\")"
   ]
  },
  {
   "cell_type": "code",
   "execution_count": 55,
   "id": "c118f1b1-1bb7-436d-ab28-9d473421948b",
   "metadata": {},
   "outputs": [
    {
     "data": {
      "text/plain": [
       "(7, 2048)"
      ]
     },
     "execution_count": 55,
     "metadata": {},
     "output_type": "execute_result"
    }
   ],
   "source": [
    "w.shape"
   ]
  },
  {
   "cell_type": "code",
   "execution_count": 56,
   "id": "38ede230-edee-42b9-951d-54d795db973f",
   "metadata": {},
   "outputs": [
    {
     "data": {
      "text/plain": [
       "(7,)"
      ]
     },
     "execution_count": 56,
     "metadata": {},
     "output_type": "execute_result"
    }
   ],
   "source": [
    "b.shape"
   ]
  },
  {
   "cell_type": "code",
   "execution_count": 57,
   "id": "1fe36e4d-4c3c-47a5-beb6-96917b1f925d",
   "metadata": {},
   "outputs": [
    {
     "data": {
      "text/plain": [
       "(6369, 2048)"
      ]
     },
     "execution_count": 57,
     "metadata": {},
     "output_type": "execute_result"
    }
   ],
   "source": [
    "features_id_train.shape"
   ]
  },
  {
   "cell_type": "code",
   "execution_count": 58,
   "id": "d38889fc-af7d-41fb-99ad-a015f34d5708",
   "metadata": {},
   "outputs": [
    {
     "data": {
      "text/plain": [
       "(6369, 7)"
      ]
     },
     "execution_count": 58,
     "metadata": {},
     "output_type": "execute_result"
    }
   ],
   "source": [
    "logits_id_train.shape"
   ]
  },
  {
   "cell_type": "code",
   "execution_count": 59,
   "id": "7fedba4b-cd29-43e7-b6e6-88ada32d6af6",
   "metadata": {},
   "outputs": [
    {
     "data": {
      "text/plain": [
       "(6369,)"
      ]
     },
     "execution_count": 59,
     "metadata": {},
     "output_type": "execute_result"
    }
   ],
   "source": [
    "labels_id_train.shape"
   ]
  },
  {
   "cell_type": "markdown",
   "id": "foreign-scope",
   "metadata": {},
   "source": [
    "# Score function creation"
   ]
  },
  {
   "cell_type": "markdown",
   "id": "8fadaacc-229a-4493-adfa-32d6f051f270",
   "metadata": {
    "tags": []
   },
   "source": [
    "### \"max_softmax\", \"max_logit\", \"vim\", \"mahalanobis\", \"knn\", \"energy\", \"energy_react\", \"GMM\", \"HBOS\", \"PCA\""
   ]
  },
  {
   "cell_type": "code",
   "execution_count": 60,
   "id": "naval-samba",
   "metadata": {},
   "outputs": [],
   "source": [
    "score_function_name = 'vim' # 'vim'\n",
    "\n",
    "scores_id_val, score_function = create_score_function(\n",
    "    features_id_train,\n",
    "    logits_id_train,\n",
    "    labels_id_train,\n",
    "    features_id_val,\n",
    "    logits_id_val,\n",
    "    labels_id_val,\n",
    "    w,\n",
    "    b,\n",
    "    score_function =  score_function_name,\n",
    "    **config\n",
    ")"
   ]
  },
  {
   "cell_type": "markdown",
   "id": "radical-national",
   "metadata": {},
   "source": [
    "## Compute various scores and metrics"
   ]
  },
  {
   "cell_type": "code",
   "execution_count": 61,
   "id": "a909eef1-eed0-4893-a5e4-16a94df28b88",
   "metadata": {},
   "outputs": [
    {
     "data": {
      "text/plain": [
       "array([-23.556686  ,   1.4115973 ,   7.269142  , ...,   8.015827  ,\n",
       "        -0.33691406, -10.059322  ], dtype=float32)"
      ]
     },
     "execution_count": 61,
     "metadata": {},
     "output_type": "execute_result"
    }
   ],
   "source": [
    "scores_id_train = score_function(features_id_train, logits_id_train)\n",
    "scores_id_test  = score_function(features_id_test, logits_id_test)\n",
    "\n",
    "scores_id_train"
   ]
  },
  {
   "cell_type": "code",
   "execution_count": 62,
   "id": "287a86ce-cbf4-4d88-8f73-eca1dd063389",
   "metadata": {},
   "outputs": [
    {
     "data": {
      "text/plain": [
       "array([ -3.1421204 ,  -0.6797142 ,  10.343679  ,  -2.6297283 ,\n",
       "         3.4795742 ,  20.857525  ,  18.590517  ,  12.578637  ,\n",
       "         4.461241  ,  10.011418  ,   6.9155636 ,  15.008051  ,\n",
       "         8.807006  ,  24.769766  ,   7.5085917 ,  22.968039  ,\n",
       "       -13.371336  ,  16.79132   ,  12.012598  ,  11.731669  ,\n",
       "        10.7676735 ,  17.33752   ,  18.459084  ,   5.0608797 ,\n",
       "         2.3771515 ,   3.273281  ,   0.57849884,   7.6973534 ,\n",
       "       -14.278738  ,  19.1225    ,   6.722851  ,  12.2487335 ,\n",
       "        17.017563  ,  19.328318  ,   2.708479  ,  -7.4020233 ,\n",
       "       -11.728733  ,  28.053986  ,  -9.978165  ,  -5.8113804 ,\n",
       "        23.396343  ,  10.134261  ,   1.552084  ,  -5.7634697 ,\n",
       "        -3.0722904 ,  -2.4378529 ,  26.043074  , -13.257246  ,\n",
       "         7.641264  ,  -7.8015594 ,  -7.566679  ,   8.807872  ,\n",
       "         2.4137774 ,  11.679185  ,  22.581081  ,   1.8140488 ,\n",
       "       -12.327469  ,  19.503408  ,   4.524312  ,   8.16357   ,\n",
       "         1.5408039 ,   7.609622  ,  15.156078  ,  -2.0926533 ,\n",
       "         7.6956224 ,  12.032274  ,  17.988686  ,   9.34065   ,\n",
       "         1.4367542 ,   9.840752  ,  23.624462  ,  12.640979  ,\n",
       "        13.439534  ,   2.317545  , -10.161982  ,  17.416752  ,\n",
       "       -10.341263  ,   4.3243294 ,  -3.3113117 ,   8.156046  ,\n",
       "         9.46798   ,  30.972164  ,   4.8101845 ,   5.722233  ,\n",
       "        -6.94973   ,  11.410783  ,   8.598314  ,  -0.26481628,\n",
       "        23.701132  ,  -4.783596  ,  13.369044  ,  -1.8959999 ,\n",
       "         6.813961  ,  23.318478  ,  14.770438  ,  20.520138  ,\n",
       "         5.2926474 ,  34.569138  ,   3.168541  ,   8.500255  ,\n",
       "         2.8337317 ,   1.4390984 ,   6.500126  ,   7.743102  ,\n",
       "        17.939283  ,  10.897521  ,   1.8692818 ,   1.1625271 ,\n",
       "        18.85233   ,   6.329892  ,   1.236906  ,  17.427372  ,\n",
       "         9.065407  ,  15.98263   ,   1.7949505 ,   2.019062  ,\n",
       "        -1.4347    ,   0.907568  ,  15.85923   ,   8.326413  ,\n",
       "       -14.9910755 ,  -5.0609818 ,  21.9221    ,   5.7166004 ,\n",
       "         6.156945  ,  -8.8347    ,   6.4110737 ,  16.49689   ,\n",
       "        16.761616  ,   4.8582907 ,   1.3783646 ,  10.92524   ,\n",
       "        20.524143  ,   5.2117367 ,   4.792721  ,  13.925995  ,\n",
       "         7.994315  ,   7.9525013 ,   7.6155653 ,   7.07143   ,\n",
       "        13.657281  ,  10.575466  ,  -2.2193842 ,   5.3334856 ,\n",
       "        21.51953   ,   6.1166    ,  15.091923  ,  12.033164  ,\n",
       "        24.908955  ,  11.464093  ,   9.30589   ,  -1.8271561 ,\n",
       "        12.5308    ,  25.668514  ,  -6.331333  ,   7.5572567 ,\n",
       "        -8.681425  ,  23.210999  ,  14.865779  ,  29.46598   ,\n",
       "        12.664757  ,  14.692849  ,  -0.27018166,  13.713381  ,\n",
       "        -3.2613125 ,   3.2671204 ,  10.3593235 ,  17.50005   ,\n",
       "        12.147055  ,  10.388525  ,   6.420233  ,  25.332582  ,\n",
       "        19.865192  ,  10.816838  ,   6.043728  ,  25.903076  ,\n",
       "        -1.3848267 , -14.980017  ,   6.2678823 ,  20.995266  ,\n",
       "         0.05654526,  13.5733185 ,  20.219513  ,   3.3693008 ,\n",
       "        18.88625   ,   8.293364  ,  37.168606  ,  15.811692  ,\n",
       "         2.5546532 ,  19.713617  ,  22.822985  ,  15.976166  ,\n",
       "        -0.6194458 ,   7.7482433 ,  16.686443  ,   4.0196514 ,\n",
       "        17.970327  ,  13.242482  ,   5.1046543 ,   8.830359  ,\n",
       "        16.15394   ,   8.809069  ,   6.4332075 ,   8.233948  ,\n",
       "        13.333098  ,   7.954875  , -10.582333  ,   9.218113  ,\n",
       "        16.736713  ,   5.898943  ,   6.9114676 ,  -4.3604546 ,\n",
       "         0.36994362,  -5.7740555 ,  18.045778  ,  12.895478  ,\n",
       "        12.456607  ,   8.3887415 ,  -6.0852804 ,  13.894829  ,\n",
       "         4.6254816 ,  16.07789   ,  -0.13563728,   7.87936   ,\n",
       "        20.523918  ,   7.0504923 ,   3.547947  ,  15.750958  ,\n",
       "         7.1723423 ,   4.5710907 ,  17.671143  ,   7.5284967 ,\n",
       "        19.664053  ,   8.723123  ,  23.456654  ,   4.432123  ,\n",
       "        21.97675   ,   8.452692  ,  -1.1514854 ,  -7.3501663 ,\n",
       "        -8.622622  ,   5.195875  ,   2.2210865 ,   7.522543  ,\n",
       "         9.077631  , -15.489414  , -11.1775675 ,  -4.4678    ,\n",
       "         7.047518  ,  -8.4907255 ,   6.7266407 , -11.426352  ,\n",
       "         0.43223953,   8.914549  ,  10.276215  ,   3.6240425 ,\n",
       "        15.0641    ,  10.880758  ,   6.060671  ,  21.894182  ,\n",
       "        -4.7793903 ,  -7.122963  ,  -0.30480766,  -3.9452362 ,\n",
       "        -8.423388  ,   6.8615036 ,  10.724933  ,   4.988367  ,\n",
       "        13.16149   ,  -0.48575783,  -9.096611  ,   7.5794973 ,\n",
       "        -1.882885  ,   8.146311  ,  -0.65278816,  22.715343  ,\n",
       "        -9.409313  ,  -4.929528  ,  -3.8447742 ,  -3.6047487 ,\n",
       "        27.292404  ,  -5.3703613 ,   5.864958  ,  -3.5079422 ,\n",
       "         9.770713  ,  -5.006239  ,   7.9419384 ,   2.384735  ,\n",
       "        10.896221  ,  13.215019  ,  19.907093  ,  16.905151  ,\n",
       "       -10.345013  ,   3.5925379 ,  19.912468  ,   9.422841  ,\n",
       "        -8.91967   ,   2.39439   ,  -5.3081846 ,  -4.231472  ,\n",
       "       -18.795317  ,  16.779312  ,  -9.176598  ,  -3.752468  ,\n",
       "        12.418618  ,   6.4466915 ,  18.98029   ,   6.847807  ,\n",
       "        -4.121023  ,  -4.2614136 ,  -2.4412956 ,  10.861956  ,\n",
       "        12.393079  ,  24.003155  ,  11.185503  ,   6.9892235 ,\n",
       "        -7.752536  ,  -2.225315  ,  -6.5479507 ,  -7.2274513 ,\n",
       "        -1.5924187 ,  -3.1017551 ,  12.598566  ,  -7.5386086 ,\n",
       "         2.0816574 ,  -0.58203125,  -4.893323  ,   9.0556965 ,\n",
       "        -3.3978138 ,   7.8804264 ,  -5.4013176 ,  11.776298  ,\n",
       "        11.951382  ,  14.614243  ,  10.018784  , -11.66135   ,\n",
       "        -6.7441254 ,   7.7720423 ,  20.076876  ,  -3.8882933 ,\n",
       "        -6.901394  ,  -2.8854637 ,  11.521046  ,  17.933208  ,\n",
       "        -3.0024595 ,  -0.14241219,   8.624597  ,   8.758554  ,\n",
       "        -3.6827536 ,   7.5788784 ,  13.507477  ,  -8.220942  ,\n",
       "        15.186359  ,   2.7773037 ,  -4.0985107 ,   2.569893  ,\n",
       "         2.0323086 ,  -2.983818  ,   3.5956173 ,  -1.181303  ,\n",
       "        -9.405769  ,  -3.1600304 ,  -8.144283  ,   4.179636  ,\n",
       "        15.519745  ,  -9.981409  ,   2.0595322 ,  -7.827915  ,\n",
       "        26.534489  ,   9.227564  ,   3.597396  ,   5.501604  ,\n",
       "       -13.790415  ,  -8.194611  ,  15.417423  ,  18.648989  ,\n",
       "        11.097414  ,  -6.4593124 ,   2.839058  ,   6.0425186 ,\n",
       "        -2.8842134 ,   6.6438274 ,  -2.880804  ,  -2.218048  ,\n",
       "        -8.617876  ,  -1.4846916 ,  -0.79475975,   5.9757614 ,\n",
       "        -8.722597  ,  15.813407  ,  -3.0051584 ,  15.465541  ,\n",
       "        -2.1493778 , -20.2097    ,  11.305784  ,  -2.2300873 ,\n",
       "         5.448206  ,  10.864679  ,   4.3454494 ,  12.521121  ,\n",
       "        15.310137  ,   4.456338  ,   6.0669403 ,  12.484755  ,\n",
       "         2.5525293 ,  11.416579  ,  12.413879  ,  -2.4111414 ,\n",
       "         6.2410126 ,   1.7957497 ,  12.173399  ,   5.4331923 ,\n",
       "         5.3379774 ,   3.2123528 ,   2.5378284 ,  18.093029  ,\n",
       "        13.469108  ,   8.364097  ,  -4.008569  ,   6.702403  ,\n",
       "         6.4610834 ,  -8.406441  ,   1.3842449 ,  -6.74889   ,\n",
       "        -1.4165754 ,   5.6784716 ,   8.417433  ,   1.3739052 ,\n",
       "         0.10503578,   9.0364    ,  11.326529  ,  12.673152  ,\n",
       "        -2.2415314 ,  -1.4512358 ,   1.5552721 ,   1.1339397 ,\n",
       "        11.287222  ,  -2.378828  ,   7.427472  ,   8.833003  ,\n",
       "        -5.459548  ,  10.586206  ,   4.9706345 ,   1.806345  ,\n",
       "         3.4676838 ,  -2.2676067 ,  -3.6355743 ,   9.602441  ,\n",
       "         3.7505417 ,   9.088062  ,   3.0065575 ,   5.9519615 ,\n",
       "       -10.971658  ,  -1.1853256 ,   3.9212284 ,   4.2804546 ,\n",
       "        -0.5003357 ,   0.37550163,  18.064692  ,  12.414494  ,\n",
       "        -0.70286465,   6.1247663 ,  11.968887  ,   7.8470554 ,\n",
       "         8.098725  ,   7.275202  ,   4.0681057 ,  -7.3041573 ,\n",
       "         5.2951784 ,  17.0765    ,   4.7787333 ,   3.3876276 ,\n",
       "        16.923012  ,   3.4071436 ,   4.9387846 ,   1.9815598 ,\n",
       "         1.6950827 ,   6.171508  ,  -1.8086414 ,  -4.1832914 ,\n",
       "         8.016136  ,  11.774078  ,   4.9911118 ,  11.231587  ,\n",
       "         3.4688091 ,  -2.1317244 ,   8.354893  ,   3.7165794 ,\n",
       "         6.5767508 ,  11.054117  ,   2.4384165 ,   4.292967  ,\n",
       "        21.34795   ,  -2.962309  ,  -2.8706894 ,   5.483615  ,\n",
       "         2.2708855 ,   3.7531452 ,  15.872168  ,  15.00675   ,\n",
       "         0.13026524,   0.7840347 ,  -0.14076233,   7.48256   ,\n",
       "        -0.36610985,  20.970055  ,  10.725694  ,  -2.4098043 ,\n",
       "         6.272934  ,  -4.8889103 ,  -7.2993965 ,  -0.8286686 ,\n",
       "         4.5758677 ,   5.431628  ,   3.1591778 ,  -2.5273361 ,\n",
       "        -1.5319929 ,  -1.2277737 ,   4.691437  ,   1.8904591 ,\n",
       "         6.9451065 ,   9.766081  ,   7.799691  ,   4.928525  ,\n",
       "        -2.3241787 ,  -1.031847  ,   4.0319424 ,   9.014355  ,\n",
       "        -1.0024052 ,  10.491533  ,   1.5591431 ,   9.157507  ,\n",
       "       -17.538496  ,   2.1236687 ,  -5.157997  ,  10.579588  ,\n",
       "         3.1857557 ,  -1.4591007 ,   1.2634563 ,  16.646545  ,\n",
       "         7.8127637 ,  11.247358  ,  -5.4400635 ,   6.087881  ,\n",
       "         8.533638  ,  -0.1770153 ,  10.080692  ,  -1.1601868 ,\n",
       "         5.6017733 ,   7.7248964 ,  -3.360756  ,   9.541224  ,\n",
       "        -1.0775318 ,  -0.26436043,  15.036621  ,   8.525063  ,\n",
       "        -1.9330387 ,   1.6854744 ,  14.685934  ,   7.2751846 ,\n",
       "         6.1851597 ,   8.513945  ,   9.460049  ,  -7.0083847 ,\n",
       "         3.8211737 ,   7.6008873 ,  -9.327026  ,   3.0088835 ,\n",
       "        -6.407688  ,   9.616982  ,  25.061468  ,  11.066176  ,\n",
       "        -0.23599434,  11.35573   ,   0.75317764,   4.0830355 ,\n",
       "        18.314972  ,   5.8895044 ,   9.401593  ,   6.3860283 ,\n",
       "         9.731216  ,   5.266513  ,   1.3647346 ,   5.4475164 ,\n",
       "         6.863122  ,   3.342554  ,   3.2503128 ,   4.1526327 ,\n",
       "        -1.2967043 ,   8.214186  ,   5.5985746 ,  -3.919261  ,\n",
       "        -0.65100384,  -3.841896  ,   8.467991  ,  -0.3924713 ,\n",
       "       -11.863102  ,   1.0085793 ,  -1.3184338 ,  11.440379  ,\n",
       "        -1.4818249 ,  -5.334337  ,   7.9163513 ,  -5.8975124 ,\n",
       "         5.9696484 ,   8.138567  ,  18.481674  ,  19.37796   ,\n",
       "        10.531486  ,   7.444192  ,  17.652771  ,  -5.6359005 ,\n",
       "        -2.9799633 ,   5.1076775 ,   5.837078  ,   8.4379425 ,\n",
       "         6.9036255 ,  -4.7767944 ,   1.1138678 ,   9.3413    ,\n",
       "         9.148961  ,  13.354262  ,  -2.1630592 ,   2.4662018 ,\n",
       "        -0.3818903 ,   1.991499  ,   8.995214  ,  10.017912  ,\n",
       "         1.7108631 ,   0.12297821,  10.451125  ,  10.861606  ,\n",
       "         2.8205166 ,   2.7524996 ,  -1.4821205 ,   6.890667  ,\n",
       "         2.6552458 ,  10.308113  ,   3.0054722 ,  10.201353  ,\n",
       "         1.5279598 ,  -3.7420225 ,   4.108202  ,  -3.4031162 ,\n",
       "         4.088627  ,   5.9122934 ,   3.6747122 ,   9.897455  ,\n",
       "         1.8386307 ,   5.5833626 ,   8.60722   ,  -0.88637924,\n",
       "         1.4033966 ,   4.2940655 ,   3.788413  ,   2.9899654 ,\n",
       "         6.724243  ,   6.3418837 ,  14.362862  ,  16.460953  ,\n",
       "       -15.819149  ,  -2.2839212 ,   9.948048  ,   5.1820107 ,\n",
       "         2.9966192 ,   3.592948  ,   7.7205076 ,   5.66187   ,\n",
       "         3.9893398 ,  12.043402  ,  -1.0763826 ,   2.3074818 ,\n",
       "        10.52005   , -14.968864  ,   1.6562347 ,   0.32708168,\n",
       "         2.6450672 ,   3.9660664 ,   7.84818   ,  -1.6822433 ,\n",
       "         2.435073  ,   5.569662  ,  14.522825  ,  -1.6311283 ,\n",
       "        -4.53524   ,  13.882302  ,  -0.4965763 ,  17.437492  ,\n",
       "        13.255878  ,   3.6381683 ,   3.3145876 ,  -8.378366  ,\n",
       "        11.06399   ,  -1.8307428 ,  16.065983  ,   5.493498  ,\n",
       "         9.958197  ,   3.1384573 ,  11.978438  ,   8.381808  ,\n",
       "        -1.5598011 ,   9.226296  ,  -8.03961   ,  16.222069  ,\n",
       "         8.8669405 ,  -3.597807  ,  -2.1612597 ,   5.5020885 ,\n",
       "         5.0078516 ,  -5.9481506 ,   7.2182245 ,  10.501737  ,\n",
       "       -14.205013  ,   7.308647  ,   3.0879726 ,   3.9997873 ,\n",
       "         5.346678  ,  10.246515  ,   6.0660954 ,  -0.8702612 ,\n",
       "        15.269108  ,   3.6054554 ,  -0.18841362,   5.4184637 ,\n",
       "         7.911393  ,   5.582391  ,  15.50988   ,   6.0555716 ,\n",
       "        -0.24130917,   8.9015665 ,   8.146243  ,   4.7434464 ,\n",
       "        -3.479704  ,   4.1329927 ,   2.5568848 ,   7.984647  ,\n",
       "        10.459939  ,  10.814189  ,   1.3619614 ,  14.245226  ,\n",
       "         5.5990257 ,  -4.287112  ,  -6.3705635 ,  -1.6116915 ,\n",
       "         4.0273705 ,   1.3272591 ,  15.055988  ,   7.0925636 ,\n",
       "        23.936872  ,   1.6641102 ,  -1.0806398 ,   5.4705734 ,\n",
       "         6.2350597 ,   6.6979237 ,  -0.8467579 ,  10.200916  ,\n",
       "         1.7089739 ,   3.0721655 ,  -2.3102608 ,  -2.1689587 ,\n",
       "        -4.7388697 ,  -0.6535034 , -12.57778   ,  11.28955   ,\n",
       "         2.139554  ,  13.8322115 ,  16.091007  ,  -6.563756  ,\n",
       "         0.5607586 ,  12.69374   ,   3.5576277 ,  15.396091  ,\n",
       "         6.659894  ,  18.863426  ,   2.1927328 ,  -3.8668756 ,\n",
       "         1.0630503 ,   6.2798786 ,   1.7051315 ,  14.472751  ,\n",
       "         4.003791  ,  -2.425766  ,   1.1464739 ,  -6.3896093 ,\n",
       "        -0.44979763,   9.744312  ,   8.852289  ,   6.1849546 ,\n",
       "         4.453435  ,   1.6874838 ,   9.6233015 ,  -4.3430653 ,\n",
       "        11.602511  ,  -0.40637207], dtype=float32)"
      ]
     },
     "execution_count": 62,
     "metadata": {},
     "output_type": "execute_result"
    }
   ],
   "source": [
    "scores_id_test"
   ]
  },
  {
   "cell_type": "code",
   "execution_count": 44,
   "id": "bc44104c-7c74-44ef-8ffc-324ec1954f69",
   "metadata": {},
   "outputs": [],
   "source": [
    "# Here you would compute the scores for OOD data\n",
    "# Features/logits/labels Validation data\n",
    "features_ood = np.load(f\"{dataset_path}/{algorithm}_features_ood_test.npy\")\n",
    "logits_ood = np.load(f\"{dataset_path}/{algorithm}_logits_ood_test.npy\")\n",
    "labels_ood = np.load(f\"{dataset_path}/{algorithm}_labels_ood_test.npy\")\n",
    "scores_ood_test = score_function(features_ood, logits_ood)"
   ]
  },
  {
   "cell_type": "code",
   "execution_count": 45,
   "id": "3b320a0c-ef83-4546-b222-5204cd01952a",
   "metadata": {},
   "outputs": [
    {
     "data": {
      "text/plain": [
       "array([[1.2910001e+00, 3.0857370e+00, 2.6997972e-01, ..., 3.8805985e-01,\n",
       "        8.1281179e-01, 7.1679465e-02],\n",
       "       [6.9043016e-01, 5.4645791e+00, 4.2763495e-01, ..., 0.0000000e+00,\n",
       "        0.0000000e+00, 0.0000000e+00],\n",
       "       [2.6983038e-01, 9.4914727e-02, 7.0710227e-02, ..., 3.6953717e-02,\n",
       "        5.7352042e-01, 4.4760182e-01],\n",
       "       ...,\n",
       "       [2.1955989e-01, 0.0000000e+00, 1.0073609e-01, ..., 7.5290763e-01,\n",
       "        8.8036251e-01, 1.4433448e-02],\n",
       "       [8.1418520e-01, 3.0095163e-01, 2.4730463e-01, ..., 7.3645985e-01,\n",
       "        4.7921285e-01, 1.7307192e-02],\n",
       "       [6.2401450e-01, 7.3395565e-02, 1.7222862e-03, ..., 1.8998228e-02,\n",
       "        3.7397391e-01, 5.5813424e-02]], dtype=float32)"
      ]
     },
     "execution_count": 45,
     "metadata": {},
     "output_type": "execute_result"
    }
   ],
   "source": [
    "features_ood"
   ]
  },
  {
   "cell_type": "code",
   "execution_count": 46,
   "id": "82baf7c0-c202-4f02-ad7d-4bfd413febbe",
   "metadata": {},
   "outputs": [
    {
     "data": {
      "text/plain": [
       "(2048, 2048)"
      ]
     },
     "execution_count": 46,
     "metadata": {},
     "output_type": "execute_result"
    }
   ],
   "source": [
    "features_ood.shape"
   ]
  },
  {
   "cell_type": "code",
   "execution_count": 47,
   "id": "c11b8b8e-3d93-4b88-9d51-39cf4e4ec77e",
   "metadata": {},
   "outputs": [
    {
     "data": {
      "text/plain": [
       "(2048, 7)"
      ]
     },
     "execution_count": 47,
     "metadata": {},
     "output_type": "execute_result"
    }
   ],
   "source": [
    "logits_ood.shape"
   ]
  },
  {
   "cell_type": "code",
   "execution_count": 48,
   "id": "4ad003da-f881-4bb1-be98-96607e922e0b",
   "metadata": {},
   "outputs": [
    {
     "data": {
      "text/plain": [
       "array([[ 2.1850822 , -1.7292246 , -5.7999616 , ...,  8.395324  ,\n",
       "        -3.92716   ,  8.283982  ],\n",
       "       [ 1.7644033 , -5.623045  , -6.709762  , ...,  1.7478005 ,\n",
       "        -2.2425988 , 14.654401  ],\n",
       "       [-3.3703334 , -0.29221353,  0.22391015, ..., -2.8689823 ,\n",
       "        -4.1863256 , -2.9076629 ],\n",
       "       ...,\n",
       "       [ 0.14755909,  1.2648841 ,  3.0822575 , ...,  0.59514374,\n",
       "        -0.9065864 , -0.27907914],\n",
       "       [ 1.050271  ,  2.1275423 ,  1.7535232 , ...,  5.4503126 ,\n",
       "         0.19324636, -3.2838979 ],\n",
       "       [ 2.1367285 ,  2.1052532 ,  2.0281599 , ...,  0.9372236 ,\n",
       "        -1.830505  , -2.8454196 ]], dtype=float32)"
      ]
     },
     "execution_count": 48,
     "metadata": {},
     "output_type": "execute_result"
    }
   ],
   "source": [
    "logits_ood"
   ]
  },
  {
   "cell_type": "code",
   "execution_count": 49,
   "id": "882b0159-f415-493f-89b3-29248f4b0139",
   "metadata": {},
   "outputs": [
    {
     "data": {
      "text/plain": [
       "array([6, 6, 3, ..., 0, 1, 1])"
      ]
     },
     "execution_count": 49,
     "metadata": {},
     "output_type": "execute_result"
    }
   ],
   "source": [
    "labels_ood"
   ]
  },
  {
   "cell_type": "code",
   "execution_count": 50,
   "id": "71884f3f-1153-40e3-bccc-7b1c99241142",
   "metadata": {},
   "outputs": [
    {
     "data": {
      "text/plain": [
       "(2048,)"
      ]
     },
     "execution_count": 50,
     "metadata": {},
     "output_type": "execute_result"
    }
   ],
   "source": [
    "labels_ood.shape"
   ]
  },
  {
   "cell_type": "code",
   "execution_count": 51,
   "id": "shared-payday",
   "metadata": {},
   "outputs": [
    {
     "name": "stdout",
     "output_type": "stream",
     "text": [
      "dafsfsafasfdddddddddddddddddddddddddddddddddddddddddddddddddddddddddddddddddddddddddd\n"
     ]
    }
   ],
   "source": [
    "metrics = ['quantiles']\n",
    "\n",
    "outs = compute_metric(\n",
    "    scores_id_val,\n",
    "    scores_id_test,\n",
    "    scores_ood_test,\n",
    "    features_id_train,\n",
    "    logits_id_train,\n",
    "    labels_id_train,\n",
    "    features_id_test,\n",
    "    logits_id_test,\n",
    "    labels_id_test,\n",
    "    features_ood,\n",
    "    logits_ood,\n",
    "    labels_ood,\n",
    "    metrics=metrics\n",
    ")"
   ]
  },
  {
   "cell_type": "code",
   "execution_count": 52,
   "id": "junior-camping",
   "metadata": {},
   "outputs": [
    {
     "name": "stdout",
     "output_type": "stream",
     "text": [
      "{'n_95_frac': 0.56640625, 'n_95': 0.9672414064407349}\n"
     ]
    }
   ],
   "source": [
    "#n_95 is the accuracy at threshold 95%percentile of validation set\n",
    "#n_95_frac is the fraction of included samples at this particular threshold\n",
    "print(outs)"
   ]
  },
  {
   "cell_type": "code",
   "execution_count": null,
   "id": "a365ca26-1b82-42d6-b9b7-fea9083ce33f",
   "metadata": {},
   "outputs": [],
   "source": []
  },
  {
   "cell_type": "code",
   "execution_count": null,
   "id": "88a31f4b-7e10-4ef9-b281-64d822caf3c3",
   "metadata": {},
   "outputs": [],
   "source": []
  }
 ],
 "metadata": {
  "kernelspec": {
   "display_name": "Python [conda env:.conda-ood]",
   "language": "python",
   "name": "conda-env-.conda-ood-py"
  },
  "language_info": {
   "codemirror_mode": {
    "name": "ipython",
    "version": 3
   },
   "file_extension": ".py",
   "mimetype": "text/x-python",
   "name": "python",
   "nbconvert_exporter": "python",
   "pygments_lexer": "ipython3",
   "version": "3.9.13"
  },
  "vscode": {
   "interpreter": {
    "hash": "7777e8cd77b1a42d3e413a64ab2dd2719a1140100efcec2477e8dd7f016d0079"
   }
  }
 },
 "nbformat": 4,
 "nbformat_minor": 5
}
